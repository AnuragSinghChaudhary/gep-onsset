{
 "cells": [
  {
   "cell_type": "markdown",
   "metadata": {},
   "source": [
    "# Welcome to the GEP Generator\n",
    "\n",
    "This jupyter based interface has been designed to support scenario runs for the Global Electrification Platform. \n",
    "\n",
    "The interface is built upon a modified version of ([OnSSET](http://www.onsset.org/)) developed by KTH dESA to provide an easy and quick way to generate electrification investment scenarios compatible with GEP data guidelines and protocols. \n",
    "\n",
    "Follow the steps below to generate custom electrification investment outlooks for your country of interest."
   ]
  },
  {
   "cell_type": "markdown",
   "metadata": {},
   "source": [
    "#### Start by importing the code "
   ]
  },
  {
   "cell_type": "code",
   "execution_count": 2,
   "metadata": {},
   "outputs": [
    {
     "name": "stderr",
     "output_type": "stream",
     "text": [
      "2019-05-28 11:46:37,345\t\tCACHEDIR=C:\\Users\\alekor\\.matplotlib\n",
      "2019-05-28 11:46:37,364\t\tUsing fontManager instance from C:\\Users\\alekor\\.matplotlib\\fontlist-v300.json\n",
      "2019-05-28 11:46:38,499\t\tLoaded backend module://ipykernel.pylab.backend_inline version unknown.\n",
      "2019-05-28 11:46:38,504\t\tLoaded backend module://ipykernel.pylab.backend_inline version unknown.\n",
      "2019-05-28 11:46:38,523\t\tLoaded backend module://ipykernel.pylab.backend_inline version unknown.\n"
     ]
    }
   ],
   "source": [
    "from gep_onsset import *\n",
    "from IPython.display import display, Markdown, HTML\n",
    "%matplotlib inline"
   ]
  },
  {
   "cell_type": "markdown",
   "metadata": {},
   "source": [
    "# 1. Country selection\n",
    "\n",
    "Before we proceed, please define the directory your input files are located at. Sample file shall be located at .\\ gep-onsset\\test_data. \n"
   ]
  },
  {
   "cell_type": "code",
   "execution_count": 21,
   "metadata": {},
   "outputs": [
    {
     "name": "stdout",
     "output_type": "stream",
     "text": [
      "C:\\Users\\alekor\\Desktop\\GithubFolder\\gep-onsset\\test_data\n"
     ]
    }
   ],
   "source": [
    "# Update the directory in the \"\"\n",
    "cd \"C:\\Users\\alekor\\Desktop\\GithubFolder\\gep-onsset\\test_data\""
   ]
  },
  {
   "cell_type": "markdown",
   "metadata": {},
   "source": [
    "Now fill in the name of the country you wish to run an analysis for. Make sure the name of the country matches with the name of the input csv file in deroctory specified above (e.g. Malawi == Malawi.csv). "
   ]
  },
  {
   "cell_type": "code",
   "execution_count": 28,
   "metadata": {},
   "outputs": [],
   "source": [
    "country = 'Malawi'   ### Simply write the name of the selected country within the brackets\n",
    "\n",
    "coordinate_units = 1000  # 1000 if coordinates are in m, 1 if coordinates are in km\n",
    "discount_rate = 0.08 # E.g. 0.08 means a discount rate of 8%\n",
    "\n",
    "onsseter = SettlementProcessor('{x}.csv'.format(x = country))"
   ]
  },
  {
   "cell_type": "markdown",
   "metadata": {},
   "source": [
    "# 2. Modelling period and target electrification rate\n",
    "\n",
    "Next, define the modelling period and the electrification rate to be achieved by the end of the analysis. Further down you will also define an intermediate year and target (in the ***Levers*** section)."
   ]
  },
  {
   "cell_type": "code",
   "execution_count": 29,
   "metadata": {},
   "outputs": [],
   "source": [
    "start_year = 2018\n",
    "end_year = 2030\n",
    "electrification_rate_target = 1 # E.g. 1 for 100% electrification rate or 0.80 for 80% electrification rate "
   ]
  },
  {
   "cell_type": "markdown",
   "metadata": {},
   "source": [
    "# 3. Levers\n",
    "\n",
    "Next, define the values of the levers. These are the 6 levers that are available on the GEP Explorer. Contrary to the GEP Explorer where each lever has two or three pre-defined values, here they can take any value."
   ]
  },
  {
   "cell_type": "markdown",
   "metadata": {},
   "source": [
    "#### Lever 1: Population growth\n",
    "\n",
    "For the first lever first, enter the expected population in the country by the end year of the analysis (e.g. 2030). The default values in the GEP Explorer are based on the medium growth variant and high growth variant of the UN Population Database, found <a href=\"https://population.un.org/wpp/\" target=\"_blank\">here</a>."
   ]
  },
  {
   "cell_type": "code",
   "execution_count": 30,
   "metadata": {},
   "outputs": [],
   "source": [
    "end_year_pop = 26858618"
   ]
  },
  {
   "cell_type": "markdown",
   "metadata": {},
   "source": [
    "#### Lever 2: Electricity demand target\n",
    "For the second lever, enter the target tier (level of electricity access) for urban and rural households respectively. This can take a value between **1** (lowest level of electricity access) and **5** (highest level of electricity access) as in ESMAPs Multi-Tier Framework for Measuring Electricity Access (found <a href=\"https://www.esmap.org/node/55526\" target=\"_blank\">here</a>). Alternatively, enter **6** to use a distribution of the tiers across the country based on poverty levels and GDP according to the methodology found here *link*.   "
   ]
  },
  {
   "cell_type": "code",
   "execution_count": 31,
   "metadata": {},
   "outputs": [],
   "source": [
    "urban_target_tier = 4\n",
    "rural_target_tier = 1"
   ]
  },
  {
   "cell_type": "markdown",
   "metadata": {},
   "source": [
    "#### Lever 3: Intermediate electrification rate target\n",
    "For the third lever, enter the intermediate target year and target electrification rate for that year."
   ]
  },
  {
   "cell_type": "code",
   "execution_count": 32,
   "metadata": {},
   "outputs": [],
   "source": [
    "intermediate_year = 2025\n",
    "intermediate_electrification_target = 0.63 # E.g. for a target electrification rate of 75%, enter 0.75"
   ]
  },
  {
   "cell_type": "markdown",
   "metadata": {},
   "source": [
    "#### Lever 4: Grid generating cost of electricity\n",
    "This lever examines different average costs of generating electricity by the power-plants connected to the national grid. This cost is one of the factors that affect the LCoE of connecting to the grid (together with extension of the grid lines etc.), and may affect the split between grid- and off-grid technologies."
   ]
  },
  {
   "cell_type": "code",
   "execution_count": 33,
   "metadata": {},
   "outputs": [],
   "source": [
    "grid_generation_cost = 0.046622           ### This is the grid cost electricity USD/kWh as expected in the end year of the analysis"
   ]
  },
  {
   "cell_type": "markdown",
   "metadata": {},
   "source": [
    "#### Lever 5: PV system cost adjustment\n",
    "This lever reflects the role of PV system costs on electrification results. All PV based systems will be adjusted by a factor to simulate a higher or lower cost of PV systems (compared to the baseline values entered below). A value lower than 1 means lower investment costs for PV systems compared to baseline, and a value larger than 1 means higher investment cost for PV systems compared to baseline. E.g. ***0.75*** would mean a cost that is 25% lower compared to baseline costs."
   ]
  },
  {
   "cell_type": "code",
   "execution_count": 34,
   "metadata": {},
   "outputs": [],
   "source": [
    "pv_adjustment_factor = 1"
   ]
  },
  {
   "cell_type": "markdown",
   "metadata": {},
   "source": [
    "#### Lever 6: Prioritization algorithm\n",
    "This lever reflects the prioritization approach in order to achieve the electrification rate specified (in Lever 3) in intermediate target year of the analysis. There are currently two options available:\n",
    "\n",
    "**Baseline**: Prioritizes grid densification first (ramp up in already electrified clusters) then selection based on lowest invetsment cost per capita. Grid densification is limited by a grid capacity cap per year and a number of sensible grid connections per year.\n",
    "\n",
    "**Intensification**: Same as above, plus automatic grid intensification to all clusters within a predefined buffer of X km. (Default value for X is 2km)"
   ]
  },
  {
   "cell_type": "code",
   "execution_count": 35,
   "metadata": {},
   "outputs": [],
   "source": [
    "prioritization = 2                        # Select 1 or 2. 1 = baseline, 2 = intensification\n",
    "\n",
    "auto_intensification = 2                  # Buffer distance (km) for automatic intensification if choosing prioritization 1\n",
    "annual_new_grid_connections_limit = 109 # This is the maximum amount of new households that can be connected to the grid in one year (thousands)\n",
    "annual_grid_cap_gen_limit = 100       # This is the maximum generation capacity that can be added to the grid in one year (MW)"
   ]
  },
  {
   "cell_type": "markdown",
   "metadata": {},
   "source": [
    "# 4. Enter country specific data\n",
    "\n",
    "In addition to the levers above the user can customize a large number of variables describing the social - economic - technological environment in the selected country. \n",
    "\n",
    "**Note!** Most input values shall represent future estimates for the variable, i.e. they describe and **NOT** current values."
   ]
  },
  {
   "cell_type": "markdown",
   "metadata": {},
   "source": [
    "### a. Demographics and Social components"
   ]
  },
  {
   "cell_type": "code",
   "execution_count": 36,
   "metadata": {},
   "outputs": [],
   "source": [
    "pop_start_year = 18620000       ### Write the population in the base year (e.g. 2018) \n",
    "\n",
    "urban_ratio_start_year = 0.17   ### Write the urban population population ratio in the base year (e.g. 2018)\n",
    "urban_ratio_end_year = 0.20     ### Write the urban population population ratio in the end year (e.g. 2030)\n",
    "\n",
    "num_people_per_hh_urban = 4.3     ### Write the number of people per household expected in the end year (e.g. 2030)\n",
    "num_people_per_hh_rural = 4.5   ### Write the number of people per household expected in the end year (e.g. 2030)\n",
    "\n",
    "elec_ratio_start_year = 0.11   ### Write the electrification rate in the base year (e.g. 2018)\n",
    "urban_elec_ratio = 0.492        ### Write urban electrification rate in the base year (e.g. 2018)\n",
    "rural_elec_ratio = 0.032         ### Write rural electrification rate in the base year (e.g. 2018)"
   ]
  },
  {
   "cell_type": "markdown",
   "metadata": {},
   "source": [
    "### b. Technology specifications & costs\n",
    "\n",
    "The cell below contains all the information that is used to calculate the levelized costs for all the technologies, including grid. These default values should be updated to reflect the most accurate values in the country. There are currently 7 potential technologies to include in the model:\n",
    "* Grid\n",
    "* PV Mini-grid\n",
    "* Wind Mini-grid\n",
    "* Hydro Mini-grid\n",
    "* Diesel Mini-grid\n",
    "* PV Stand-alone systems\n",
    "* Diesel Stand-alone systems\n",
    "\n",
    "First, decide whether to include diesel technologies or not:"
   ]
  },
  {
   "cell_type": "code",
   "execution_count": 37,
   "metadata": {},
   "outputs": [],
   "source": [
    "diesel_techs = 0                      ### 0 = diesel NOT included, 1 = diesel included "
   ]
  },
  {
   "cell_type": "code",
   "execution_count": 38,
   "metadata": {},
   "outputs": [],
   "source": [
    "grid_power_plants_capital_cost = 2000 ### The cost in USD/kW to for capacity upgrades of the grid\n",
    "grid_losses = 0.1                     ### The fraction of electricity lost in transmission and distribution (percentage) \n",
    "base_to_peak = 0.6                    ### The ratio of base grid demand to peak demand (percentage) \n",
    "existing_grid_cost_ratio = 0.1        ### The additional cost per round of electrification (percentage) "
   ]
  },
  {
   "cell_type": "code",
   "execution_count": 39,
   "metadata": {},
   "outputs": [],
   "source": [
    "diesel_price = 0.5                   ### This is the diesel price in USD/liter as expected in the end year of the analysis."
   ]
  },
  {
   "cell_type": "code",
   "execution_count": 40,
   "metadata": {},
   "outputs": [],
   "source": [
    "sa_diesel_capital_cost = 938          ### Stand-alone Diesel capital cost (USD/kW) as expected in the years of the analysis\n",
    "mg_diesel_capital_cost = 721          ### Mini-grid Diesel capital cost (USD/kW) as expected in the years of the analysis\n",
    "mg_pv_capital_cost = 2950             ### Mini-grid PV capital cost (USD/kW) as expected in the years of the analysis\n",
    "mg_wind_capital_cost = 3750           ### Mini-grid Wind capital cost (USD/kW) as expected in the years of the analysis\n",
    "mg_hydro_capital_cost = 3000          ### Mini-grid Hydro capital cost (USD/kW) as expected in the years of the analysis"
   ]
  },
  {
   "cell_type": "code",
   "execution_count": 41,
   "metadata": {},
   "outputs": [],
   "source": [
    "sa_pv_capital_cost_1 = 9620          ### Stand-alone PV capital cost (USD/kW) for household systems under 20 W\n",
    "sa_pv_capital_cost_2 = 8780          ### Stand-alone PV capital cost (USD/kW) for household systems between 21-50 W\n",
    "sa_pv_capital_cost_3 = 6380           ### Stand-alone PV capital cost (USD/kW) for household systems between 51-100 W\n",
    "sa_pv_capital_cost_4 = 4470           ### Stand-alone PV capital cost (USD/kW) for household systems between 101-1000 W\n",
    "sa_pv_capital_cost_5 = 6950           ### Stand-alone PV capital cost (USD/kW) for household systems over 1 kW"
   ]
  },
  {
   "cell_type": "markdown",
   "metadata": {},
   "source": [
    "The cells below contain additional technology specifications"
   ]
  },
  {
   "cell_type": "code",
   "execution_count": 42,
   "metadata": {},
   "outputs": [],
   "source": [
    "# Transmission and distribution costs\n",
    "mv_line_cost = 7000\n",
    "lv_line_cost=4250\n",
    "mv_line_capacity=50\n",
    "lv_line_capacity=10\n",
    "lv_line_max_length=30\n",
    "hv_line_cost=53000\n",
    "mv_line_max_length=50\n",
    "hv_lv_transformer_cost=25000\n",
    "mv_increase_rate=0.1\n",
    "max_mv_line_dist = 50\n",
    "\n",
    "\n",
    "# Centralized grid costs\n",
    "grid_calc = Technology(om_of_td_lines=0.1,\n",
    "                        distribution_losses=grid_losses,\n",
    "                        connection_cost_per_hh=150,\n",
    "                        base_to_peak_load_ratio=base_to_peak,\n",
    "                        capacity_factor=1,\n",
    "                        tech_life=30,\n",
    "                        grid_capacity_investment=grid_power_plants_capital_cost,\n",
    "                        grid_price=grid_generation_cost)\n",
    "\n",
    "# Mini-grid hydro costs\n",
    "mg_hydro_calc = Technology(om_of_td_lines=0.03,\n",
    "                            distribution_losses=0.05,\n",
    "                            connection_cost_per_hh=100,\n",
    "                            base_to_peak_load_ratio=0.85,\n",
    "                            capacity_factor=0.5,\n",
    "                            tech_life=30,\n",
    "                            capital_cost=mg_hydro_capital_cost,\n",
    "                            om_costs=0.02,\n",
    "                            )\n",
    "\n",
    "# Mini-grid wind costs\n",
    "mg_wind_calc = Technology(om_of_td_lines=0.03,\n",
    "                            distribution_losses=0.05,\n",
    "                            connection_cost_per_hh=100,\n",
    "                            base_to_peak_load_ratio=0.85,\n",
    "                            capital_cost=mg_wind_capital_cost,\n",
    "                            om_costs=0.02,\n",
    "                            tech_life=20,\n",
    "                            )\n",
    "\n",
    "# Mini-grid PV costs\n",
    "mg_pv_calc = Technology(om_of_td_lines=0.03,\n",
    "                        distribution_losses=0.05,\n",
    "                        connection_cost_per_hh=100,\n",
    "                        base_to_peak_load_ratio=0.85,\n",
    "                        tech_life=20,\n",
    "                        om_costs=0.02,\n",
    "                        capital_cost=mg_pv_capital_cost * pv_adjustment_factor                        \n",
    "                       )\n",
    "\n",
    "# Stand-alone PV costs\n",
    "sa_pv_calc = Technology(base_to_peak_load_ratio=0.9,\n",
    "                        tech_life=15,\n",
    "                        om_costs=0.02,\n",
    "                        capital_cost={0.020: sa_pv_capital_cost_1 * pv_adjustment_factor, \n",
    "                                      0.050: sa_pv_capital_cost_2 * pv_adjustment_factor, \n",
    "                                      0.100: sa_pv_capital_cost_3 * pv_adjustment_factor, \n",
    "                                      1: sa_pv_capital_cost_4 * pv_adjustment_factor, \n",
    "                                      5: sa_pv_capital_cost_5 * pv_adjustment_factor},\n",
    "                        standalone=True\n",
    "                        )\n",
    "\n",
    "# Mini-grid diesel costs\n",
    "mg_diesel_calc = Technology(om_of_td_lines=0.03,\n",
    "                            distribution_losses=0.05,\n",
    "                            connection_cost_per_hh=100,\n",
    "                            base_to_peak_load_ratio=0.85,\n",
    "                            capacity_factor=0.7,\n",
    "                            tech_life=15,\n",
    "                            om_costs=0.1,\n",
    "                            efficiency=0.33,\n",
    "                            capital_cost=mg_diesel_capital_cost,\n",
    "                            diesel_price=diesel_price,\n",
    "                            diesel_truck_consumption=33.7,\n",
    "                            diesel_truck_volume=15000,\n",
    "                            )\n",
    "\n",
    "# Stand-alone diesel costs\n",
    "sa_diesel_calc = Technology(base_to_peak_load_ratio=0.9,\n",
    "                            capacity_factor=0.7,\n",
    "                            tech_life=10,\n",
    "                            om_costs=0.1,\n",
    "                            capital_cost=sa_diesel_capital_cost,\n",
    "                            diesel_price=diesel_price,\n",
    "                            standalone=True,\n",
    "                            efficiency=0.28,\n",
    "                            diesel_truck_consumption=14,\n",
    "                            diesel_truck_volume=300)"
   ]
  },
  {
   "cell_type": "markdown",
   "metadata": {},
   "source": [
    "# 5. GIS data import and processing\n",
    "\n",
    "OnSSET is a GIS based tool and its proper function depends heavily on the diligent preparation and calibration of the necessary geospatial data. Documentation on GIS processing in regards to OnSSET can be found <a href=\"http://onsset-manual.readthedocs.io/en/latest/data_acquisition.html\" target=\"_blank\">here</a>. The following cell reads the CSV-file containing the extracted GIS data for the country chosen in the previous section, and displays a snap-shot of some of the data."
   ]
  },
  {
   "cell_type": "code",
   "execution_count": 43,
   "metadata": {
    "scrolled": false
   },
   "outputs": [
    {
     "name": "stderr",
     "output_type": "stream",
     "text": [
      "2019-05-28 12:12:41,975\t\tEnsure that columns that are supposed to be numeric are numeric\n",
      "2019-05-28 12:12:42,021\t\tAdding column \"ElectrificationOrder\"\n",
      "2019-05-28 12:12:42,024\t\tReplace null values with zero\n",
      "2019-05-28 12:12:42,066\t\tSort by country, Y and X\n",
      "2019-05-28 12:12:42,240\t\tClassify road dist\n",
      "2019-05-28 12:12:45,526\t\tClassify substation dist\n",
      "2019-05-28 12:12:49,123\t\tClassify land cover\n",
      "2019-05-28 12:12:52,431\t\tClassify elevation\n",
      "2019-05-28 12:12:55,667\t\tClassify slope\n",
      "2019-05-28 12:12:58,966\t\tCombined classification\n",
      "2019-05-28 12:12:59,075\t\tGrid penalty\n",
      "2019-05-28 12:13:02,476\t\tCalculate Wind CF\n",
      "2019-05-28 12:13:12,221\t\tCalibrate current population\n"
     ]
    },
    {
     "name": "stdout",
     "output_type": "stream",
     "text": [
      "Use urban definition from GIS layer <y/n> (n=model calibration):y\n"
     ]
    },
    {
     "name": "stderr",
     "output_type": "stream",
     "text": [
      "2019-05-28 12:13:18,656\t\tProject future population\n"
     ]
    },
    {
     "name": "stdout",
     "output_type": "stream",
     "text": [
      "The modelled urban ratio is 0.14. In case this is not acceptable please revise this part of the code\n"
     ]
    },
    {
     "data": {
      "text/markdown": [
       "#### The Malawi.csv file has been imported correctly. Here is a preview:"
      ],
      "text/plain": [
       "<IPython.core.display.Markdown object>"
      ]
     },
     "metadata": {},
     "output_type": "display_data"
    },
    {
     "data": {
      "text/html": [
       "<div>\n",
       "<style scoped>\n",
       "    .dataframe tbody tr th:only-of-type {\n",
       "        vertical-align: middle;\n",
       "    }\n",
       "\n",
       "    .dataframe tbody tr th {\n",
       "        vertical-align: top;\n",
       "    }\n",
       "\n",
       "    .dataframe thead th {\n",
       "        text-align: right;\n",
       "    }\n",
       "</style>\n",
       "<table border=\"1\" class=\"dataframe\">\n",
       "  <thead>\n",
       "    <tr style=\"text-align: right;\">\n",
       "      <th></th>\n",
       "      <th>Country</th>\n",
       "      <th>Pop</th>\n",
       "      <th>NightLights</th>\n",
       "      <th>TravelHours</th>\n",
       "      <th>GHI</th>\n",
       "      <th>WindVel</th>\n",
       "      <th>Hydropower</th>\n",
       "      <th>HydropowerDist</th>\n",
       "    </tr>\n",
       "  </thead>\n",
       "  <tbody>\n",
       "    <tr>\n",
       "      <th>191361</th>\n",
       "      <td>Malawi</td>\n",
       "      <td>17.31473</td>\n",
       "      <td>0.0</td>\n",
       "      <td>1.75000</td>\n",
       "      <td>2037</td>\n",
       "      <td>4.08467</td>\n",
       "      <td>375</td>\n",
       "      <td>47.29575</td>\n",
       "    </tr>\n",
       "    <tr>\n",
       "      <th>59554</th>\n",
       "      <td>Malawi</td>\n",
       "      <td>11.62666</td>\n",
       "      <td>0.0</td>\n",
       "      <td>0.85000</td>\n",
       "      <td>2111</td>\n",
       "      <td>3.88913</td>\n",
       "      <td>196</td>\n",
       "      <td>23.65934</td>\n",
       "    </tr>\n",
       "    <tr>\n",
       "      <th>94855</th>\n",
       "      <td>Malawi</td>\n",
       "      <td>2.11713</td>\n",
       "      <td>0.0</td>\n",
       "      <td>2.31667</td>\n",
       "      <td>1978</td>\n",
       "      <td>3.92811</td>\n",
       "      <td>247</td>\n",
       "      <td>9.14690</td>\n",
       "    </tr>\n",
       "    <tr>\n",
       "      <th>180872</th>\n",
       "      <td>Malawi</td>\n",
       "      <td>55.56243</td>\n",
       "      <td>0.0</td>\n",
       "      <td>0.58333</td>\n",
       "      <td>1973</td>\n",
       "      <td>3.41026</td>\n",
       "      <td>122</td>\n",
       "      <td>72.86161</td>\n",
       "    </tr>\n",
       "    <tr>\n",
       "      <th>81548</th>\n",
       "      <td>Malawi</td>\n",
       "      <td>104.03261</td>\n",
       "      <td>0.0</td>\n",
       "      <td>1.08333</td>\n",
       "      <td>2025</td>\n",
       "      <td>4.33131</td>\n",
       "      <td>405</td>\n",
       "      <td>34.46751</td>\n",
       "    </tr>\n",
       "    <tr>\n",
       "      <th>126510</th>\n",
       "      <td>Malawi</td>\n",
       "      <td>100.89699</td>\n",
       "      <td>0.0</td>\n",
       "      <td>1.06667</td>\n",
       "      <td>2176</td>\n",
       "      <td>4.26371</td>\n",
       "      <td>102</td>\n",
       "      <td>25.71382</td>\n",
       "    </tr>\n",
       "    <tr>\n",
       "      <th>53753</th>\n",
       "      <td>Malawi</td>\n",
       "      <td>5.70806</td>\n",
       "      <td>0.0</td>\n",
       "      <td>2.95000</td>\n",
       "      <td>2029</td>\n",
       "      <td>3.86704</td>\n",
       "      <td>337</td>\n",
       "      <td>3.88109</td>\n",
       "    </tr>\n",
       "  </tbody>\n",
       "</table>\n",
       "</div>"
      ],
      "text/plain": [
       "       Country        Pop  NightLights  TravelHours   GHI  WindVel  \\\n",
       "191361  Malawi   17.31473          0.0      1.75000  2037  4.08467   \n",
       "59554   Malawi   11.62666          0.0      0.85000  2111  3.88913   \n",
       "94855   Malawi    2.11713          0.0      2.31667  1978  3.92811   \n",
       "180872  Malawi   55.56243          0.0      0.58333  1973  3.41026   \n",
       "81548   Malawi  104.03261          0.0      1.08333  2025  4.33131   \n",
       "126510  Malawi  100.89699          0.0      1.06667  2176  4.26371   \n",
       "53753   Malawi    5.70806          0.0      2.95000  2029  3.86704   \n",
       "\n",
       "        Hydropower  HydropowerDist  \n",
       "191361         375        47.29575  \n",
       "59554          196        23.65934  \n",
       "94855          247         9.14690  \n",
       "180872         122        72.86161  \n",
       "81548          405        34.46751  \n",
       "126510         102        25.71382  \n",
       "53753          337         3.88109  "
      ]
     },
     "metadata": {},
     "output_type": "display_data"
    }
   ],
   "source": [
    "yearsofanalysis = [intermediate_year, end_year]\n",
    "\n",
    "onsseter.condition_df()\n",
    "onsseter.grid_penalties()\n",
    "onsseter.calc_wind_cfs()\n",
    "onsseter.calibrate_pop_and_urban(pop_start_year, end_year_pop, end_year_pop, urban_ratio_start_year, \n",
    "                                 urban_ratio_end_year, start_year, end_year)\n",
    "\n",
    "eleclimits = {intermediate_year: intermediate_electrification_target, end_year: electrification_rate_target}\n",
    "time_steps = {intermediate_year: intermediate_year-start_year, end_year: end_year-intermediate_year}\n",
    "\n",
    "display(Markdown('#### The {c}.csv file has been imported correctly. Here is a preview:'.format(c=country)))\n",
    "display(onsseter.df[['Country','Pop','NightLights','TravelHours','GHI','WindVel','Hydropower','HydropowerDist']].sample(7))\n"
   ]
  },
  {
   "cell_type": "markdown",
   "metadata": {},
   "source": [
    "In some cases it can be of interest to filter out clusters with very low populations, e.g. to increase computational speed or to remove false positives in the data. Setting the **pop_threshold** variable below larger than 0 will filter out all settlements below that threshold form the analysis."
   ]
  },
  {
   "cell_type": "code",
   "execution_count": 44,
   "metadata": {},
   "outputs": [],
   "source": [
    "pop_threshold = 0  # If you wish to remove low density population cells, enter a threshold above 0\n",
    "onsseter.df = onsseter.df.loc[onsseter.df[SET_POP] > pop_threshold]"
   ]
  },
  {
   "cell_type": "markdown",
   "metadata": {},
   "source": [
    "#### Calibration of currently electrified settlements\n",
    "\n",
    "*To be expanded with further description*"
   ]
  },
  {
   "cell_type": "markdown",
   "metadata": {},
   "source": [
    "First, set the minimum night light intensity, below which it is assumed there is no electricity access.\n",
    "In addition, both of the below conditions must be met to consider a settlement electrified"
   ]
  },
  {
   "cell_type": "code",
   "execution_count": 45,
   "metadata": {},
   "outputs": [],
   "source": [
    "min_night_lights = 0    ### 0 Indicates no night light, while any number above refers to the night-lights intensity\n",
    "min_pop = 50      ### Settlement above which we can assume that it could be electrified\n",
    "\n",
    "max_service_transformer_distance = 2    ### Distance from the existing grid network below which we can assume a settlement could be electrified\n",
    "max_mv_line_distance = 2\n",
    "max_hv_line_distance = 5"
   ]
  },
  {
   "cell_type": "code",
   "execution_count": 46,
   "metadata": {
    "scrolled": true
   },
   "outputs": [
    {
     "name": "stderr",
     "output_type": "stream",
     "text": [
      "2019-05-28 12:14:08,743\t\tCalibrate current electrification\n"
     ]
    },
    {
     "name": "stdout",
     "output_type": "stream",
     "text": [
      "We have identified the existence of transformers or MV lines as input data; therefore we proceed using those for the calibration\n",
      "The modelled electrification rate achieved is 0.11.Urban elec. rate is 0.56 and Rural elec. rate is 0.04. \n",
      "If this is not acceptable please revise this part of the algorithm\n"
     ]
    }
   ],
   "source": [
    "Technology.set_default_values(base_year=start_year, start_year=start_year, end_year=end_year, discount_rate=discount_rate)\n",
    "\n",
    "elec_modelled, urban_internal_elec_ratio, rural_internal_elec_ratio = onsseter.elec_current_and_future(elec_ratio_start_year, \n",
    "                                                                                                       urban_elec_ratio, \n",
    "                                                                                                       rural_elec_ratio, \n",
    "                                                                                                       pop_start_year, \n",
    "                                                                                                       start_year,\n",
    "                                                                                                       min_night_lights=min_night_lights, \n",
    "                                                                                                       min_pop=min_pop, \n",
    "                                                                                                       max_transformer_dist=max_service_transformer_distance, \n",
    "                                                                                                       max_mv_dist=max_mv_line_distance, \n",
    "                                                                                                       max_hv_dist=max_hv_line_distance) \n",
    "\n",
    "onsseter.grid_reach_estimate(start_year, gridspeed=9999)"
   ]
  },
  {
   "cell_type": "markdown",
   "metadata": {},
   "source": [
    "#### The figure below show the results of the calibration. Settlements in *blue* are considered to be (at least partly) electrified already in the start year of the analysis, while settlements in *green* are yet to be electrified. Re-running the calibration step with different intial values may change the map below."
   ]
  },
  {
   "cell_type": "code",
   "execution_count": 47,
   "metadata": {
    "scrolled": false
   },
   "outputs": [
    {
     "data": {
      "text/plain": [
       "<Figure size 2160x2160 with 0 Axes>"
      ]
     },
     "execution_count": 47,
     "metadata": {},
     "output_type": "execute_result"
    },
    {
     "name": "stderr",
     "output_type": "stream",
     "text": [
      "2019-05-28 12:14:38,787\t\tupdate_title_pos\n",
      "2019-05-28 12:14:38,812\t\tfindfont: Matching :family=sans-serif:style=normal:variant=normal:weight=normal:stretch=normal:size=10.0 to DejaVu Sans ('C:\\\\Users\\\\alekor\\\\AppData\\\\Local\\\\Continuum\\\\anaconda3\\\\lib\\\\site-packages\\\\matplotlib\\\\mpl-data\\\\fonts\\\\ttf\\\\DejaVuSans.ttf') with score of 0.050000.\n",
      "2019-05-28 12:14:38,904\t\tupdate_title_pos\n",
      "2019-05-28 12:14:38,983\t\tupdate_title_pos\n",
      "2019-05-28 12:14:39,030\t\tupdate_title_pos\n",
      "2019-05-28 12:14:39,053\t\tupdate_title_pos\n"
     ]
    },
    {
     "data": {
      "image/png": "[encoded data removed]",
      "text/plain": [
       "<Figure size 648x648 with 1 Axes>"
      ]
     },
     "metadata": {
      "needs_background": "light"
     },
     "output_type": "display_data"
    },
    {
     "data": {
      "text/plain": [
       "<Figure size 2160x2160 with 0 Axes>"
      ]
     },
     "metadata": {},
     "output_type": "display_data"
    }
   ],
   "source": [
    "from matplotlib import pyplot as plt\n",
    "colors = ['#73B2FF','#EDD100','#EDA800','#1F6600','#98E600','#70A800','#1FA800']\n",
    "plt.figure(figsize=(9,9))\n",
    "plt.plot(onsseter.df.loc[onsseter.df[SET_ELEC_CURRENT]==0, SET_X_DEG], onsseter.df.loc[onsseter.df[SET_ELEC_CURRENT]==0, SET_Y_DEG], 'y,')\n",
    "plt.plot(onsseter.df.loc[onsseter.df[SET_ELEC_CURRENT]==1, SET_X_DEG], onsseter.df.loc[onsseter.df[SET_ELEC_CURRENT]==1, SET_Y_DEG], 'b,')\n",
    "if onsseter.df[SET_X_DEG].max() - onsseter.df[SET_X_DEG].min() > onsseter.df[SET_Y_DEG].max() - onsseter.df[SET_Y_DEG].min():\n",
    "    plt.xlim(onsseter.df[SET_X_DEG].min() - 1, onsseter.df[SET_X_DEG].max() + 1)\n",
    "    plt.ylim((onsseter.df[SET_Y_DEG].min()+onsseter.df[SET_Y_DEG].max())/2 - 0.5*abs(onsseter.df[SET_X_DEG].max() - onsseter.df[SET_X_DEG].min()) - 1, (onsseter.df[SET_Y_DEG].min()+onsseter.df[SET_Y_DEG].max())/2 + 0.5*abs(onsseter.df[SET_X_DEG].max() - onsseter.df[SET_X_DEG].min()) + 1)\n",
    "else:\n",
    "    plt.xlim((onsseter.df[SET_X_DEG].min()+onsseter.df[SET_X_DEG].max())/2 - 0.5*abs(onsseter.df[SET_Y_DEG].max() - onsseter.df[SET_Y_DEG].min()) - 1, (onsseter.df[SET_X_DEG].min()+onsseter.df[SET_X_DEG].max())/2 + 0.5*abs(onsseter.df[SET_Y_DEG].max() - onsseter.df[SET_Y_DEG].min()) + 1)\n",
    "    plt.ylim(onsseter.df[SET_Y_DEG].min() -1, onsseter.df[SET_Y_DEG].max() +1)\n",
    "plt.figure(figsize=(30,30))"
   ]
  },
  {
   "cell_type": "markdown",
   "metadata": {},
   "source": [
    "# 6. Define the demand\n",
    "\n",
    "This piece of code defines the target electricity demand in the region/country. Residential electricity demand is defined as kWh/household/year, while all other demands are defined as kWh/capita/year. Note that at the moment, all productive uses demands are set to 0 by default."
   ]
  },
  {
   "cell_type": "code",
   "execution_count": 48,
   "metadata": {},
   "outputs": [
    {
     "name": "stderr",
     "output_type": "stream",
     "text": [
      "2019-05-28 12:14:45,973\t\tPopulate ResidentialDemandTier columns\n"
     ]
    }
   ],
   "source": [
    "# Define the annual household electricity targets to choose from\n",
    "tier_1 = 38.7  # 38.7 refers to kWh/household/year. \n",
    "tier_2 = 219\n",
    "tier_3 = 803\n",
    "tier_4 = 2117\n",
    "tier_5 = 2993\n",
    "\n",
    "onsseter.prepare_wtf_tier_columns(num_people_per_hh_rural, num_people_per_hh_urban, tier_1, tier_2, tier_3, tier_4, tier_5)"
   ]
  },
  {
   "cell_type": "code",
   "execution_count": 49,
   "metadata": {},
   "outputs": [],
   "source": [
    "onsseter.df[SET_EDU_DEMAND] = 0           # Demand for educational facilities (kWh/capita/year)\n",
    "onsseter.df[SET_HEALTH_DEMAND] = 0        # Demand for health facilities (kWh/capita/year)\n",
    "onsseter.df[SET_COMMERCIAL_DEMAND] = 0    # Demand for commercial activities (kWh/capita/year)\n",
    "onsseter.df[SET_AGRI_DEMAND] = 0          # Demand for agricultural activities (kWh/capita/year)\n",
    "productive_demand = 0 # 1 if productive demand is defined and should be included, else 0"
   ]
  },
  {
   "cell_type": "markdown",
   "metadata": {},
   "source": [
    "# 7. Start a scenario run, which calculate and compare technology costs for every settlement in the country\n",
    "\n",
    "Based on the previous calculation this piece of code identifies the LCoE that every off-grid technology can provide, for each single populated settlement of the selected country. The cell then takes all the currently grid-connected points in the country, and looks at the points within a certain distance from them, to see if it is more economical to connect them to the grid, or to use one of the off-grid technologies calculated above. Once more points are connected to the grid, the process is repeated, so that new points close to those points might also be connected. This is repeated until there are no new points to connect to the grid."
   ]
  },
  {
   "cell_type": "code",
   "execution_count": 50,
   "metadata": {
    "scrolled": false
   },
   "outputs": [
    {
     "name": "stderr",
     "output_type": "stream",
     "text": [
      "2019-05-28 12:14:50,495\t\tDetermine current MV line length\n",
      "2019-05-28 12:14:50,655\t\tCalculate new connections\n",
      "2019-05-28 12:14:50,819\t\tSetting electrification demand as per target per year\n",
      "2019-05-28 12:14:51,447\t\tCalculate minigrid hydro LCOE\n",
      "2019-05-28 12:15:01,947\t\t58 potential hydropower sites were utilised to maximum capacity\n",
      "2019-05-28 12:15:01,948\t\tCalculate minigrid PV LCOE\n",
      "2019-05-28 12:15:32,090\t\tCalculate minigrid wind LCOE\n",
      "2019-05-28 12:15:36,582\t\tCalculate standalone PV LCOE\n",
      "2019-05-28 12:16:08,037\t\tDetermine minimum technology (off-grid)\n",
      "2019-05-28 12:16:08,405\t\tDetermine minimum tech LCOE\n",
      "2019-05-28 12:16:08,746\t\tDefine the initial electrification status\n",
      "2019-05-28 12:16:09,013\t\tElectrification algorithm starts running\n",
      "2019-05-28 12:16:35,061\t\tInitially 1639 electrified\n",
      "2019-05-28 12:16:36,508\t\tDetermine minimum overall\n",
      "2019-05-28 12:16:36,946\t\tDetermine minimum overall LCOE\n",
      "2019-05-28 12:16:37,007\t\tAdd technology codes\n",
      "2019-05-28 12:16:37,347\t\tCalculate investment cost\n",
      "2019-05-28 12:17:08,197\t\tDetermine electrification limits\n",
      "2019-05-28 12:17:10,184\t\tDetermine final electrification decision\n"
     ]
    },
    {
     "name": "stdout",
     "output_type": "stream",
     "text": [
      "The electrification rate achieved in 2025 is 63.4 %\n"
     ]
    },
    {
     "name": "stderr",
     "output_type": "stream",
     "text": [
      "2019-05-28 12:17:10,484\t\tCalculate new capacity\n",
      "2019-05-28 12:17:10,668\t\tCalculate new connections\n",
      "2019-05-28 12:17:10,906\t\tSetting electrification demand as per target per year\n",
      "2019-05-28 12:17:11,158\t\tCalculate minigrid hydro LCOE\n",
      "2019-05-28 12:17:21,940\t\t41 potential hydropower sites were utilised to maximum capacity\n",
      "2019-05-28 12:17:21,941\t\tCalculate minigrid PV LCOE\n",
      "2019-05-28 12:17:53,099\t\tCalculate minigrid wind LCOE\n",
      "2019-05-28 12:17:57,947\t\tCalculate standalone PV LCOE\n",
      "2019-05-28 12:18:28,142\t\tDetermine minimum technology (off-grid)\n",
      "2019-05-28 12:18:28,540\t\tDetermine minimum tech LCOE\n",
      "2019-05-28 12:18:28,932\t\tDefine the initial electrification status\n",
      "2019-05-28 12:18:29,291\t\tElectrification algorithm starts running\n",
      "2019-05-28 12:18:55,510\t\tInitially 1639 electrified\n",
      "2019-05-28 12:18:56,518\t\tDetermine minimum overall\n",
      "2019-05-28 12:18:56,982\t\tDetermine minimum overall LCOE\n",
      "2019-05-28 12:18:57,047\t\tAdd technology codes\n",
      "2019-05-28 12:18:57,464\t\tCalculate investment cost\n",
      "2019-05-28 12:19:26,295\t\tDetermine electrification limits\n",
      "2019-05-28 12:19:26,301\t\tDetermine final electrification decision\n"
     ]
    },
    {
     "name": "stdout",
     "output_type": "stream",
     "text": [
      "The electrification rate achieved in 2030 is 100.0 %\n"
     ]
    },
    {
     "name": "stderr",
     "output_type": "stream",
     "text": [
      "2019-05-28 12:19:26,814\t\tCalculate new capacity\n"
     ]
    }
   ],
   "source": [
    "onsseter.current_mv_line_dist()\n",
    "\n",
    "for year in yearsofanalysis:\n",
    "    end_year_pop = 1\n",
    "        \n",
    "    eleclimit = eleclimits[year]\n",
    "    time_step = time_steps[year]\n",
    "    grid_cap_gen_limit = time_step * annual_grid_cap_gen_limit\n",
    "    grid_connect_limit = time_step * annual_new_grid_connections_limit\n",
    "    \n",
    "    onsseter.set_scenario_variables(year, num_people_per_hh_rural, num_people_per_hh_urban, time_step,\n",
    "                                            start_year, urban_elec_ratio, rural_elec_ratio, urban_target_tier, \n",
    "                                            rural_target_tier, end_year_pop, productive_demand)\n",
    "\n",
    "    onsseter.calculate_off_grid_lcoes(mg_hydro_calc, mg_wind_calc, mg_pv_calc, sa_pv_calc, mg_diesel_calc,\n",
    "                                        sa_diesel_calc, 0, 0, 0, 0, 0, year, start_year, end_year, time_step,\n",
    "                                     diesel_techs=diesel_techs)\n",
    "\n",
    "    onsseter.pre_electrification(grid_calc, grid_generation_cost, year, time_step, start_year)\n",
    "\n",
    "    onsseter.run_elec(grid_calc, max_mv_line_dist, year, start_year, end_year, time_step,\n",
    "                              grid_cap_gen_limit, grid_connect_limit, auto_intensification, prioritization)\n",
    "\n",
    "    onsseter.results_columns(mg_hydro_calc, mg_wind_calc, mg_pv_calc, sa_pv_calc, mg_diesel_calc,\n",
    "                                     sa_diesel_calc, grid_calc, 0, 0, 0, 0, 0, year)\n",
    "\n",
    "    onsseter.calculate_investments(mg_hydro_calc, mg_wind_calc, mg_pv_calc, sa_pv_calc, mg_diesel_calc,\n",
    "                                           sa_diesel_calc, grid_calc, 0, 0, 0, 0, 0, year, end_year, time_step)\n",
    "\n",
    "    onsseter.apply_limitations(eleclimit, year, time_step, prioritization, auto_intensification)\n",
    "\n",
    "    onsseter.final_decision(mg_hydro_calc, mg_wind_calc, mg_pv_calc, sa_pv_calc, mg_diesel_calc, sa_diesel_calc,\n",
    "                                    grid_calc, 0, 0, 0, 0, 0, year, end_year, time_step)    "
   ]
  },
  {
   "cell_type": "markdown",
   "metadata": {},
   "source": [
    "# 8. Results, Summaries and Visualization\n",
    "With all the calculations and grid-extensions complete, this block gets the final results on which technology was chosen for each point, how much capacity needs to be installed and what it will cost. Then the summaries, plots and maps are generated."
   ]
  },
  {
   "cell_type": "code",
   "execution_count": 51,
   "metadata": {
    "scrolled": false
   },
   "outputs": [],
   "source": [
    "elements = [\"Population\", \"New_Connections\", \"Capacity\", \"Investment\"]\n",
    "techs = [\"Grid\", \"SA_Diesel\", \"SA_PV\", \"MG_Diesel\", \"MG_PV\", \"MG_Wind\", \"MG_Hydro\"]\n",
    "\n",
    "sumtechs = []\n",
    "\n",
    "sumtechs.extend([\"Population\" + t for t in techs])\n",
    "sumtechs.extend([\"New_Connections\" + t for t in techs])\n",
    "sumtechs.extend([\"Capacity\" + t for t in techs])\n",
    "sumtechs.extend([\"Investment\" + t for t in techs])\n",
    "summary = pd.Series(index=sumtechs, name=country)\n",
    "                    \n",
    "for t in techs:\n",
    "    summary.loc[\"Population\" + t] = onsseter.df.loc[onsseter.df[SET_MIN_OVERALL + '2030'] == t + '2030', SET_POP + '2030'].sum()\n",
    "    summary.loc[\"New_Connections\" + t] = onsseter.df.loc[onsseter.df[SET_MIN_OVERALL + '2030'] == t + '2030', SET_NEW_CONNECTIONS + '2030'].sum()\n",
    "    summary.loc[\"Capacity\" + t] = onsseter.df.loc[onsseter.df[SET_MIN_OVERALL + '2030'] == t + '2030', SET_NEW_CAPACITY + '2030'].sum()/1000\n",
    "    summary.loc[\"Investment\" + t] = onsseter.df.loc[onsseter.df[SET_MIN_OVERALL + '2030'] == t + '2030', SET_INVESTMENT_COST + '2030'].sum()\n",
    "    \n",
    "index = techs + ['Total']\n",
    "columns = ['Population', 'New connections', 'Capacity (MW)', 'Investments (million USD)']\n",
    "summary_table = pd.DataFrame(index=index, columns=columns)\n",
    "\n",
    "summary_table[columns[0]] = summary.iloc[0:7].astype(int).tolist() + [int(summary.iloc[0:7].sum())]\n",
    "summary_table[columns[1]] = summary.iloc[7:14].astype(int).tolist() + [int(summary.iloc[7:14].sum())]\n",
    "summary_table[columns[2]] = summary.iloc[14:21].astype(int).tolist() + [int(summary.iloc[14:21].sum())]\n",
    "summary_table[columns[3]] = [round(x/1e4)/1e2 for x in summary.iloc[21:28].astype(float).tolist()] + [round(summary.iloc[21:28].sum()/1e4)/1e2]"
   ]
  },
  {
   "cell_type": "code",
   "execution_count": 52,
   "metadata": {},
   "outputs": [
    {
     "data": {
      "text/markdown": [
       "### Summary \n",
       " These are the summarized results for full electrification of the selected country by the final year"
      ],
      "text/plain": [
       "<IPython.core.display.Markdown object>"
      ]
     },
     "metadata": {},
     "output_type": "display_data"
    },
    {
     "data": {
      "text/html": [
       "<div>\n",
       "<style scoped>\n",
       "    .dataframe tbody tr th:only-of-type {\n",
       "        vertical-align: middle;\n",
       "    }\n",
       "\n",
       "    .dataframe tbody tr th {\n",
       "        vertical-align: top;\n",
       "    }\n",
       "\n",
       "    .dataframe thead th {\n",
       "        text-align: right;\n",
       "    }\n",
       "</style>\n",
       "<table border=\"1\" class=\"dataframe\">\n",
       "  <thead>\n",
       "    <tr style=\"text-align: right;\">\n",
       "      <th></th>\n",
       "      <th>Population</th>\n",
       "      <th>New connections</th>\n",
       "      <th>Capacity (MW)</th>\n",
       "      <th>Investments (million USD)</th>\n",
       "    </tr>\n",
       "  </thead>\n",
       "  <tbody>\n",
       "    <tr>\n",
       "      <th>Grid</th>\n",
       "      <td>7708390</td>\n",
       "      <td>1091249</td>\n",
       "      <td>53</td>\n",
       "      <td>166.55</td>\n",
       "    </tr>\n",
       "    <tr>\n",
       "      <th>SA_Diesel</th>\n",
       "      <td>0</td>\n",
       "      <td>0</td>\n",
       "      <td>0</td>\n",
       "      <td>0.00</td>\n",
       "    </tr>\n",
       "    <tr>\n",
       "      <th>SA_PV</th>\n",
       "      <td>19044942</td>\n",
       "      <td>11054302</td>\n",
       "      <td>54</td>\n",
       "      <td>280.05</td>\n",
       "    </tr>\n",
       "    <tr>\n",
       "      <th>MG_Diesel</th>\n",
       "      <td>0</td>\n",
       "      <td>0</td>\n",
       "      <td>0</td>\n",
       "      <td>0.00</td>\n",
       "    </tr>\n",
       "    <tr>\n",
       "      <th>MG_PV</th>\n",
       "      <td>105284</td>\n",
       "      <td>105284</td>\n",
       "      <td>29</td>\n",
       "      <td>52.26</td>\n",
       "    </tr>\n",
       "    <tr>\n",
       "      <th>MG_Wind</th>\n",
       "      <td>0</td>\n",
       "      <td>0</td>\n",
       "      <td>0</td>\n",
       "      <td>0.00</td>\n",
       "    </tr>\n",
       "    <tr>\n",
       "      <th>MG_Hydro</th>\n",
       "      <td>0</td>\n",
       "      <td>0</td>\n",
       "      <td>0</td>\n",
       "      <td>0.00</td>\n",
       "    </tr>\n",
       "    <tr>\n",
       "      <th>Total</th>\n",
       "      <td>26858618</td>\n",
       "      <td>12250836</td>\n",
       "      <td>136</td>\n",
       "      <td>498.86</td>\n",
       "    </tr>\n",
       "  </tbody>\n",
       "</table>\n",
       "</div>"
      ],
      "text/plain": [
       "           Population  New connections  Capacity (MW)  \\\n",
       "Grid          7708390          1091249             53   \n",
       "SA_Diesel           0                0              0   \n",
       "SA_PV        19044942         11054302             54   \n",
       "MG_Diesel           0                0              0   \n",
       "MG_PV          105284           105284             29   \n",
       "MG_Wind             0                0              0   \n",
       "MG_Hydro            0                0              0   \n",
       "Total        26858618         12250836            136   \n",
       "\n",
       "           Investments (million USD)  \n",
       "Grid                          166.55  \n",
       "SA_Diesel                       0.00  \n",
       "SA_PV                         280.05  \n",
       "MG_Diesel                       0.00  \n",
       "MG_PV                          52.26  \n",
       "MG_Wind                         0.00  \n",
       "MG_Hydro                        0.00  \n",
       "Total                         498.86  "
      ]
     },
     "execution_count": 52,
     "metadata": {},
     "output_type": "execute_result"
    }
   ],
   "source": [
    "display(Markdown('### Summary \\n These are the summarized results for full electrification of the selected country by the final year'))\n",
    "summary_table"
   ]
  },
  {
   "cell_type": "code",
   "execution_count": 53,
   "metadata": {
    "scrolled": false
   },
   "outputs": [
    {
     "name": "stderr",
     "output_type": "stream",
     "text": [
      "2019-05-28 12:20:41,045\t\tupdate_title_pos\n",
      "2019-05-28 12:20:41,097\t\tfindfont: Matching :family=sans-serif:style=normal:variant=normal:weight=normal:stretch=normal:size=20.0 to DejaVu Sans ('C:\\\\Users\\\\alekor\\\\AppData\\\\Local\\\\Continuum\\\\anaconda3\\\\lib\\\\site-packages\\\\matplotlib\\\\mpl-data\\\\fonts\\\\ttf\\\\DejaVuSans.ttf') with score of 0.050000.\n",
      "2019-05-28 12:20:41,103\t\tupdate_title_pos\n",
      "2019-05-28 12:20:41,144\t\tupdate_title_pos\n",
      "2019-05-28 12:20:41,186\t\tupdate_title_pos\n",
      "2019-05-28 12:20:41,232\t\tupdate_title_pos\n",
      "2019-05-28 12:20:41,258\t\tupdate_title_pos\n",
      "2019-05-28 12:20:41,291\t\tupdate_title_pos\n",
      "2019-05-28 12:20:41,318\t\tupdate_title_pos\n",
      "2019-05-28 12:20:41,428\t\tupdate_title_pos\n",
      "2019-05-28 12:20:41,455\t\tupdate_title_pos\n",
      "2019-05-28 12:20:41,478\t\tupdate_title_pos\n",
      "2019-05-28 12:20:41,507\t\tupdate_title_pos\n",
      "2019-05-28 12:20:41,574\t\tupdate_title_pos\n",
      "2019-05-28 12:20:41,599\t\tupdate_title_pos\n",
      "2019-05-28 12:20:41,619\t\tupdate_title_pos\n",
      "2019-05-28 12:20:41,645\t\tupdate_title_pos\n",
      "2019-05-28 12:20:41,668\t\tupdate_title_pos\n",
      "2019-05-28 12:20:41,703\t\tupdate_title_pos\n",
      "2019-05-28 12:20:41,728\t\tupdate_title_pos\n",
      "2019-05-28 12:20:41,751\t\tupdate_title_pos\n"
     ]
    },
    {
     "data": {
      "image/png": "[encoded data removed]",
      "text/plain": [
       "<Figure size 1080x1080 with 4 Axes>"
      ]
     },
     "metadata": {
      "needs_background": "light"
     },
     "output_type": "display_data"
    }
   ],
   "source": [
    "import matplotlib.pylab as plt\n",
    "import seaborn as sns\n",
    "\n",
    "colors = ['#73B2FF','#EDD100','#EDA800','#1F6600','#98E600','#70A800','#1FA800']\n",
    "techs_colors = dict(zip(techs, colors))\n",
    "\n",
    "summary_plot=summary_table.drop(labels='Total',axis=0)\n",
    "fig_size = [15, 15]\n",
    "font_size = 10\n",
    "plt.rcParams[\"figure.figsize\"] = fig_size\n",
    "f, axarr = plt.subplots(2, 2)\n",
    "fig_size = [15, 15]\n",
    "font_size = 10\n",
    "plt.rcParams[\"figure.figsize\"] = fig_size\n",
    "\n",
    "sns.barplot(x=summary_plot.index.tolist(), y=columns[0], data=summary_plot, ax=axarr[0, 0], palette=colors)\n",
    "axarr[0, 0].set_ylabel(columns[0], fontsize=2*font_size)\n",
    "axarr[0, 0].tick_params(labelsize=font_size)\n",
    "sns.barplot(x=summary_plot.index.tolist(), y=columns[1], data=summary_plot, ax=axarr[0, 1], palette=colors)\n",
    "axarr[0, 1].set_ylabel(columns[1], fontsize=2*font_size)\n",
    "axarr[0, 1].tick_params(labelsize=font_size)\n",
    "sns.barplot(x=summary_plot.index.tolist(), y=columns[2], data=summary_plot, ax=axarr[1, 0], palette=colors)\n",
    "axarr[1, 0].set_ylabel(columns[2], fontsize=2*font_size)\n",
    "axarr[1, 0].tick_params(labelsize=font_size)\n",
    "sns.barplot(x=summary_plot.index.tolist(), y=columns[3], data=summary_plot, ax=axarr[1, 1], palette=colors)\n",
    "axarr[1, 1].set_ylabel(columns[3], fontsize=2*font_size)\n",
    "axarr[1, 1].tick_params(labelsize=font_size)"
   ]
  },
  {
   "cell_type": "code",
   "execution_count": 40,
   "metadata": {
    "scrolled": false
   },
   "outputs": [
    {
     "data": {
      "text/plain": [
       "<Figure size 2160x2160 with 0 Axes>"
      ]
     },
     "execution_count": 40,
     "metadata": {},
     "output_type": "execute_result"
    },
    {
     "name": "stderr",
     "output_type": "stream",
     "text": [
      "2019-05-22 14:33:30,194\t\tupdate_title_pos\n",
      "2019-05-22 14:33:30,280\t\tupdate_title_pos\n",
      "2019-05-22 14:33:30,360\t\tupdate_title_pos\n",
      "2019-05-22 14:33:30,401\t\tupdate_title_pos\n",
      "2019-05-22 14:33:30,423\t\tupdate_title_pos\n"
     ]
    },
    {
     "data": {
      "image/png": "[encoded data removed]",
      "text/plain": [
       "<Figure size 648x648 with 1 Axes>"
      ]
     },
     "metadata": {
      "needs_background": "light"
     },
     "output_type": "display_data"
    },
    {
     "data": {
      "text/plain": [
       "<Figure size 2160x2160 with 0 Axes>"
      ]
     },
     "metadata": {},
     "output_type": "display_data"
    }
   ],
   "source": [
    "from matplotlib import pyplot as plt\n",
    "colors = ['#73B2FF','#EDD100','#EDA800','#1F6600','#98E600','#70A800','#1FA800']\n",
    "plt.figure(figsize=(9,9))\n",
    "plt.plot(onsseter.df.loc[onsseter.df['FinalElecCode2030']==3, SET_X_DEG], onsseter.df.loc[onsseter.df['FinalElecCode2030']==3, SET_Y_DEG], color='#EDA800', marker=',', linestyle='none')\n",
    "plt.plot(onsseter.df.loc[onsseter.df['FinalElecCode2030']==2, SET_X_DEG], onsseter.df.loc[onsseter.df['FinalElecCode2030']==2, SET_Y_DEG], color='#EDD100', marker=',', linestyle='none')\n",
    "plt.plot(onsseter.df.loc[onsseter.df['FinalElecCode2030']==4, SET_X_DEG], onsseter.df.loc[onsseter.df['FinalElecCode2030']==4, SET_Y_DEG], color='#1F6600', marker=',', linestyle='none')\n",
    "plt.plot(onsseter.df.loc[onsseter.df['FinalElecCode2030']==5, SET_X_DEG], onsseter.df.loc[onsseter.df['FinalElecCode2030']==5, SET_Y_DEG], color='#98E600', marker=',', linestyle='none')\n",
    "plt.plot(onsseter.df.loc[onsseter.df['FinalElecCode2030']==6, SET_X_DEG], onsseter.df.loc[onsseter.df['FinalElecCode2030']==6, SET_Y_DEG], color='#70A800', marker=',', linestyle='none')\n",
    "plt.plot(onsseter.df.loc[onsseter.df['FinalElecCode2030']==7, SET_X_DEG], onsseter.df.loc[onsseter.df['FinalElecCode2030']==7, SET_Y_DEG], color='#1FA800', marker=',', linestyle='none')\n",
    "plt.plot(onsseter.df.loc[onsseter.df['FinalElecCode2030']==1, SET_X_DEG], onsseter.df.loc[onsseter.df['FinalElecCode2030']==1, SET_Y_DEG], color='#73B2FF', marker=',', linestyle='none')\n",
    "if onsseter.df[SET_X_DEG].max() - onsseter.df[SET_X_DEG].min() > onsseter.df[SET_Y_DEG].max() - onsseter.df[SET_Y_DEG].min():\n",
    "    plt.xlim(onsseter.df[SET_X_DEG].min() - 1, onsseter.df[SET_X_DEG].max() + 1)\n",
    "    plt.ylim((onsseter.df[SET_Y_DEG].min()+onsseter.df[SET_Y_DEG].max())/2 - 0.5*abs(onsseter.df[SET_X_DEG].max() - onsseter.df[SET_X_DEG].min()) - 1, (onsseter.df[SET_Y_DEG].min()+onsseter.df[SET_Y_DEG].max())/2 + 0.5*abs(onsseter.df[SET_X_DEG].max() - onsseter.df[SET_X_DEG].min()) + 1)\n",
    "else:\n",
    "    plt.xlim((onsseter.df[SET_X_DEG].min()+onsseter.df[SET_X_DEG].max())/2 - 0.5*abs(onsseter.df[SET_Y_DEG].max() - onsseter.df[SET_Y_DEG].min()) - 1, (onsseter.df[SET_X_DEG].min()+onsseter.df[SET_X_DEG].max())/2 + 0.5*abs(onsseter.df[SET_Y_DEG].max() - onsseter.df[SET_Y_DEG].min()) + 1)\n",
    "    plt.ylim(onsseter.df[SET_Y_DEG].min() -1, onsseter.df[SET_Y_DEG].max() +1)\n",
    "plt.figure(figsize=(30,30))"
   ]
  },
  {
   "cell_type": "code",
   "execution_count": 29,
   "metadata": {},
   "outputs": [
    {
     "name": "stdout",
     "output_type": "stream",
     "text": [
      "         NTLBin   NTLArea      ElecPop     X_deg     Y_deg  GridCellArea  \\\n",
      "162782  0.00000   0.09649     0.000000  35.10056 -17.12645         0.022   \n",
      "165703  0.00000   0.14440     0.000000  35.13418 -17.12632         0.032   \n",
      "171097  0.15317   0.15317    29.043780  35.21528 -17.12491         0.032   \n",
      "175544  0.00000   0.10526     0.000000  35.29515 -17.12353         0.022   \n",
      "162071  0.00000   0.04275     0.000000  35.09183 -17.12252         0.043   \n",
      "163447  0.00000   0.76805     0.000000  35.10777 -17.12196         0.159   \n",
      "166385  0.00000   0.05726     0.000000  35.14223 -17.12187         0.012   \n",
      "169230  0.00000   0.05726     0.000000  35.18306 -17.12187         0.012   \n",
      "173935  0.00000   0.05726     0.000000  35.26473 -17.12187         0.012   \n",
      "171537  5.00000   7.00000  2470.336408  35.22318 -17.12110         1.429   \n",
      "169955  0.00000   1.22431     0.000000  35.19513 -17.12108         0.253   \n",
      "166667  0.00000   0.05726     0.000000  35.14556 -17.12103         0.012   \n",
      "167273  0.00000   0.30491     0.000000  35.15348 -17.12090         0.063   \n",
      "166911  0.00000   0.20108     0.000000  35.14890 -17.11978         0.042   \n",
      "163026  0.00000   0.05726     0.000000  35.10306 -17.11937         0.012   \n",
      "162122  0.00000   0.12307     0.000000  35.09241 -17.11887         0.051   \n",
      "162772  0.00000   0.24908     0.000000  35.10056 -17.11853         0.051   \n",
      "174626  0.00000   0.05726     0.000000  35.27640 -17.11853         0.012   \n",
      "163393  0.00000   0.05726     0.000000  35.10723 -17.11770         0.012   \n",
      "172941  0.00000   0.11308     0.000000  35.24848 -17.11728         0.023   \n",
      "163227  0.00000   0.05726     0.000000  35.10556 -17.11687         0.012   \n",
      "169113  0.00000   0.05726     0.000000  35.18140 -17.11687         0.012   \n",
      "171005  0.00000   0.10526     0.000000  35.21348 -17.11687         0.022   \n",
      "173146  0.00000   0.05726     0.000000  35.25223 -17.11687         0.012   \n",
      "173360  0.00000   0.20108     0.000000  35.25598 -17.11687         0.042   \n",
      "170336  0.00000   0.05726     0.000000  35.20223 -17.11603         0.012   \n",
      "171146  0.00000   0.10526     0.000000  35.21598 -17.11603         0.022   \n",
      "172803  0.00000   0.11308     0.000000  35.24598 -17.11562         0.023   \n",
      "163862  0.00000   0.10526     0.000000  35.11265 -17.11520         0.022   \n",
      "165540  0.00000   0.05726     0.000000  35.13223 -17.11520         0.012   \n",
      "...         ...       ...          ...       ...       ...           ...   \n",
      "2617    0.00000   0.05726     0.000000  32.99056  -9.39437         0.012   \n",
      "2644    0.00000   0.05726     0.000000  32.99223  -9.39353         0.012   \n",
      "2822    0.00000   0.10526     0.000000  32.99806  -9.39312         0.022   \n",
      "3531    0.00000   0.03588     0.000000  33.02181  -9.39312         0.024   \n",
      "2526    0.00000   0.05726     0.000000  32.98640  -9.39270         0.012   \n",
      "2556    0.00000   0.05726     0.000000  32.98806  -9.39270         0.012   \n",
      "2752    0.00000   0.15326     0.000000  32.99640  -9.39187         0.033   \n",
      "2539    0.00000   0.05726     0.000000  32.98723  -9.39103         0.012   \n",
      "2827    0.00000   0.05726     0.000000  32.99806  -9.39103         0.012   \n",
      "3026    0.00000   0.05726     0.000000  33.00473  -9.39020         0.012   \n",
      "2456    0.00000   0.05726     0.000000  32.98223  -9.38937         0.012   \n",
      "2501    0.00000   0.05726     0.000000  32.98473  -9.38937         0.012   \n",
      "3098    0.00000   0.05726     0.000000  33.00723  -9.38937         0.012   \n",
      "2678    0.00000   0.29717     0.000000  32.99375  -9.38743         0.063   \n",
      "2412    0.00000   0.10526     0.000000  32.97973  -9.38728         0.022   \n",
      "2466    0.00000   0.10526     0.000000  32.98265  -9.38603         0.022   \n",
      "3241    0.00000   0.05726     0.000000  33.01223  -9.38603         0.012   \n",
      "2426    0.00000   0.05726     0.000000  32.98056  -9.38520         0.012   \n",
      "2467    0.00000   0.10526     0.000000  32.98265  -9.38437         0.022   \n",
      "2746    0.00000  12.00000     0.000000  32.99611  -9.38185         2.630   \n",
      "3068    0.00000   0.05726     0.000000  33.00640  -9.38103         0.012   \n",
      "2459    0.00000   0.05726     0.000000  32.98223  -9.37853         0.012   \n",
      "2900    0.00000   0.10526     0.000000  33.00098  -9.37603         0.022   \n",
      "3028    0.00000   0.20900     0.000000  33.00491  -9.37438         0.045   \n",
      "2880    0.00000   0.16108     0.000000  33.00054  -9.37407         0.034   \n",
      "2949    0.00000   0.05726     0.000000  33.00223  -9.37270         0.012   \n",
      "2674    0.00000   0.16108     0.000000  32.99336  -9.37185         0.034   \n",
      "2858    0.00000   0.29708     0.000000  32.99960  -9.37048         0.063   \n",
      "3099    0.00000   0.05667     0.000000  33.00723  -9.36937         0.012   \n",
      "2673    0.00000   0.06413     0.000000  32.99335  -9.36882         0.033   \n",
      "\n",
      "            ID         Pop  Elevation  LandCover       ...         \\\n",
      "162782  160297    13.33949        432          9       ...          \n",
      "165703  160298    25.39999        203          9       ...          \n",
      "171097  160296    29.04378         45         14       ...          \n",
      "175544  160295    34.40024         35          9       ...          \n",
      "162071  186519    33.34874        462          9       ...          \n",
      "163447  188245   160.07394        404          9       ...          \n",
      "166385  160292     5.08000        179          9       ...          \n",
      "169230  160293     2.58381        104          9       ...          \n",
      "173935  160294    42.71892         32          9       ...          \n",
      "171537  186516  3383.96560         35          9       ...          \n",
      "169955  160290   160.19594         79          9       ...          \n",
      "166667  160291     5.08000        162          9       ...          \n",
      "167273  186518    64.57721        162          9       ...          \n",
      "166911  160289    73.83454        162          9       ...          \n",
      "163026  160288     6.66975        401          9       ...          \n",
      "162122  160286    86.70672        462          9       ...          \n",
      "162772  160287    33.34874        401          9       ...          \n",
      "174626  160285    34.40024         34          8       ...          \n",
      "163393  160284    13.33949        395          9       ...          \n",
      "172941  202627    85.43784         36          9       ...          \n",
      "163227  160279     6.66975        395          9       ...          \n",
      "169113  160280     2.58381        106          9       ...          \n",
      "171005  160281    18.91063         54          9       ...          \n",
      "173146  160282    42.71892         35          9       ...          \n",
      "173360  160283   170.87567         35          9       ...          \n",
      "170336  160277     2.58381         81          9       ...          \n",
      "171146  160278    28.36595         54          9       ...          \n",
      "172803  186515    85.43784         36          9       ...          \n",
      "163862  160274    20.00924        395          9       ...          \n",
      "165540  160275     5.08000        222          8       ...          \n",
      "...        ...         ...        ...        ...       ...          \n",
      "2617        25     2.03474       1438          9       ...          \n",
      "2644        24     6.10423       1438          9       ...          \n",
      "2822        23     4.06949       1438          9       ...          \n",
      "3531    160302     6.03583       1330          9       ...          \n",
      "2526        21     2.03474       1580          9       ...          \n",
      "2556        22     2.03474       1580          9       ...          \n",
      "2752        20    10.10531       1438          9       ...          \n",
      "2539        18     2.03474       1580          9       ...          \n",
      "2827        19     3.01791       1438          9       ...          \n",
      "3026        17     3.01791       1351          9       ...          \n",
      "2456        14     4.06949       1433          9       ...          \n",
      "2501        15     2.03474       1433          9       ...          \n",
      "3098        16     3.01791       1351          9       ...          \n",
      "2678        11    18.10748       1376          9       ...          \n",
      "2412        13     4.06949       1485          9       ...          \n",
      "2466        10     4.06949       1433          9       ...          \n",
      "3241        12     3.01791       1339          9       ...          \n",
      "2426         9     4.06949       1433          9       ...          \n",
      "2467         8     4.06949       1433          9       ...          \n",
      "2746    160300  1285.97292       1362          9       ...          \n",
      "3068         7     6.03583       1347         14       ...          \n",
      "2459         6     2.03474       1380          9       ...          \n",
      "2900         5     6.03583       1347          9       ...          \n",
      "3028    188259    15.08956       1336          9       ...          \n",
      "2880    160299     9.05374       1336          9       ...          \n",
      "2949         4     6.03583       1336          9       ...          \n",
      "2674    188258     9.05374       1345          9       ...          \n",
      "2858         3    33.19704       1336         14       ...          \n",
      "3099         2     3.01791       1336          9       ...          \n",
      "2673         1     9.05374       1345          9       ...          \n",
      "\n",
      "        MinimumOverall2030  MinimumOverallLCOE2030  MinimumOverallCode2030  \\\n",
      "162782           SA_PV2030                0.644470                     3.0   \n",
      "165703           SA_PV2030                0.645458                     3.0   \n",
      "171097           SA_PV2030                0.622850                     3.0   \n",
      "175544           SA_PV2030                0.618577                     3.0   \n",
      "162071           SA_PV2030                0.643156                     3.0   \n",
      "163447           SA_PV2030                0.645458                     3.0   \n",
      "166385           SA_PV2030                0.643812                     3.0   \n",
      "169230           SA_PV2030                0.632840                     3.0   \n",
      "173935           SA_PV2030                0.617367                     3.0   \n",
      "171537            Grid2030                0.046622                     1.0   \n",
      "169955           SA_PV2030                0.628430                     3.0   \n",
      "166667           SA_PV2030                0.643156                     3.0   \n",
      "167273           SA_PV2030                0.643156                     3.0   \n",
      "166911           SA_PV2030                0.643156                     3.0   \n",
      "163026           SA_PV2030                0.645128                     3.0   \n",
      "162122           SA_PV2030                0.643156                     3.0   \n",
      "162772           SA_PV2030                0.645128                     3.0   \n",
      "174626           SA_PV2030                0.676101                     3.0   \n",
      "163393           SA_PV2030                0.645458                     3.0   \n",
      "172941           SA_PV2030                0.618577                     3.0   \n",
      "163227           SA_PV2030                0.645458                     3.0   \n",
      "169113           SA_PV2030                0.632523                     3.0   \n",
      "171005           SA_PV2030                0.622850                     3.0   \n",
      "173146           SA_PV2030                0.677094                     3.0   \n",
      "173360           SA_PV2030                0.677094                     3.0   \n",
      "170336           SA_PV2030                0.628430                     3.0   \n",
      "171146           SA_PV2030                0.622850                     3.0   \n",
      "172803           SA_PV2030                0.618577                     3.0   \n",
      "163862           SA_PV2030                0.645458                     3.0   \n",
      "165540           SA_PV2030                0.645458                     3.0   \n",
      "...                    ...                     ...                     ...   \n",
      "2617             SA_PV2030                0.636002                     3.0   \n",
      "2644             SA_PV2030                0.636002                     3.0   \n",
      "2822             SA_PV2030                0.636002                     3.0   \n",
      "3531             SA_PV2030                0.629347                     3.0   \n",
      "2526             SA_PV2030                0.636587                     3.0   \n",
      "2556             SA_PV2030                0.636587                     3.0   \n",
      "2752             SA_PV2030                0.636002                     3.0   \n",
      "2539             SA_PV2030                0.636587                     3.0   \n",
      "2827             SA_PV2030                0.636002                     3.0   \n",
      "3026             SA_PV2030                0.630207                     3.0   \n",
      "2456             SA_PV2030                0.635126                     3.0   \n",
      "2501             SA_PV2030                0.635126                     3.0   \n",
      "3098             SA_PV2030                0.630207                     3.0   \n",
      "2678             SA_PV2030                0.632223                     3.0   \n",
      "2412             SA_PV2030                0.638350                     3.0   \n",
      "2466             SA_PV2030                0.635126                     3.0   \n",
      "3241             SA_PV2030                0.628774                     3.0   \n",
      "2426             SA_PV2030                0.635126                     3.0   \n",
      "2467             SA_PV2030                0.635126                     3.0   \n",
      "2746             SA_PV2030                0.630494                     3.0   \n",
      "3068             SA_PV2030                0.629347                     3.0   \n",
      "2459             SA_PV2030                0.631934                     3.0   \n",
      "2900             SA_PV2030                0.629347                     3.0   \n",
      "3028             SA_PV2030                0.629633                     3.0   \n",
      "2880             SA_PV2030                0.629633                     3.0   \n",
      "2949             SA_PV2030                0.629633                     3.0   \n",
      "2674             SA_PV2030                0.630207                     3.0   \n",
      "2858             SA_PV2030                0.629633                     3.0   \n",
      "3099             SA_PV2030                0.629633                     3.0   \n",
      "2673             SA_PV2030                0.630207                     3.0   \n",
      "\n",
      "        InvestmentCost2030  ElecStatusIn2030  InvestmentCapita2030  \\\n",
      "162782          507.749446                 1             25.556982   \n",
      "165703          968.298733                 1             25.596180   \n",
      "171097         1068.425041                 1             24.699619   \n",
      "175544         1256.791215                 1             24.530195   \n",
      "162071         1266.787586                 1             25.504905   \n",
      "163447         6102.340722                 1             25.596180   \n",
      "166385          193.166045                 1             25.530917   \n",
      "169230           96.574472                 1             25.095804   \n",
      "173935         1557.656245                 1             24.482214   \n",
      "171537        33554.753508                 1             53.541236   \n",
      "169955         5945.881326                 1             24.920920   \n",
      "166667          192.969238                 1             25.504905   \n",
      "167273         2453.034446                 1             25.504905   \n",
      "166911         2804.684035                 1             25.504905   \n",
      "163026          254.134367                 1             25.583101   \n",
      "162122         3293.647571                 1             25.504905   \n",
      "162772         1270.671451                 1             25.583101   \n",
      "174626          170.812688                 1             26.811366   \n",
      "163393          508.528203                 1             25.596180   \n",
      "172941         3121.417953                 1             24.530195   \n",
      "163227          254.264292                 1             25.596180   \n",
      "169113           96.526088                 1             25.083231   \n",
      "171005          695.659815                 1             24.699619   \n",
      "173146          212.430163                 1             26.850736   \n",
      "173360          849.720601                 1             26.850736   \n",
      "170336           95.901479                 1             24.920920   \n",
      "171146         1043.489907                 1             24.699619   \n",
      "172803         3121.417953                 1             24.530195   \n",
      "163862          762.792495                 1             25.596180   \n",
      "165540          193.659823                 1             25.596180   \n",
      "...                    ...               ...                   ...   \n",
      "2617              9.504165                 1             25.221174   \n",
      "2644             28.512540                 1             25.221174   \n",
      "2822             19.008376                 1             25.221174   \n",
      "3531             27.898034                 1             24.957258   \n",
      "2526              9.512912                 1             25.244387   \n",
      "2556              9.512912                 1             25.244387   \n",
      "2752             47.201376                 1             25.221174   \n",
      "2539              9.512912                 1             25.244387   \n",
      "2827             14.096500                 1             25.221174   \n",
      "3026             13.968058                 1             24.991368   \n",
      "2456             18.982193                 1             25.186434   \n",
      "2501              9.491073                 1             25.186434   \n",
      "3098             13.968058                 1             24.991368   \n",
      "2678             84.076569                 1             25.071323   \n",
      "2412             19.078550                 1             25.314284   \n",
      "2466             18.982193                 1             25.186434   \n",
      "3241            112.075021                 1             24.934570   \n",
      "2426             18.982193                 1             25.186434   \n",
      "2467             18.982193                 1             25.186434   \n",
      "2746           5954.694481                 1             25.002759   \n",
      "3068             27.898034                 1             24.957258   \n",
      "2459              9.443380                 1             25.059869   \n",
      "2900             27.898034                 1             24.957258   \n",
      "3028             69.776761                 1             24.968618   \n",
      "2880             41.866075                 1             24.968618   \n",
      "2949             27.910732                 1             24.968618   \n",
      "2674             41.904222                 1             24.991368   \n",
      "2858            153.508910                 1             24.968618   \n",
      "3099             13.955343                 1             24.968618   \n",
      "2673             41.904222                 1             24.991368   \n",
      "\n",
      "        GridElecIn2030  OffGridElecIn2030  FinalElecCode2030  NewCapacity2030  \n",
      "162782               0                  1                3.0         0.099111  \n",
      "165703               0                  1                3.0         0.189008  \n",
      "171097               0                  1                3.0         0.208553  \n",
      "175544               0                  1                3.0         0.245321  \n",
      "162071               0                  1                3.0         0.247272  \n",
      "163447               0                  1                3.0         1.191155  \n",
      "166385               0                  1                3.0         0.037705  \n",
      "169230               0                  1                3.0         0.018851  \n",
      "173935               0                  1                3.0         0.304049  \n",
      "171537               1                  0                1.0         1.165269  \n",
      "169955               0                  1                3.0         1.160615  \n",
      "166667               0                  1                3.0         0.037667  \n",
      "167273               0                  1                3.0         0.478823  \n",
      "166911               0                  1                3.0         0.547464  \n",
      "163026               0                  1                3.0         0.049606  \n",
      "162122               0                  1                3.0         0.642908  \n",
      "162772               0                  1                3.0         0.248030  \n",
      "174626               0                  1                3.0         0.030431  \n",
      "163393               0                  1                3.0         0.099263  \n",
      "172941               0                  1                3.0         0.609290  \n",
      "163227               0                  1                3.0         0.049631  \n",
      "169113               0                  1                3.0         0.018842  \n",
      "171005               0                  1                3.0         0.135790  \n",
      "173146               0                  1                3.0         0.037845  \n",
      "173360               0                  1                3.0         0.151380  \n",
      "170336               0                  1                3.0         0.018720  \n",
      "171146               0                  1                3.0         0.203685  \n",
      "172803               0                  1                3.0         0.609290  \n",
      "163862               0                  1                3.0         0.148894  \n",
      "165540               0                  1                3.0         0.037802  \n",
      "...                ...                ...                ...              ...  \n",
      "2617                 0                  1                3.0         0.001693  \n",
      "2644                 0                  1                3.0         0.005080  \n",
      "2822                 0                  1                3.0         0.003386  \n",
      "3531                 0                  1                3.0         0.004970  \n",
      "2526                 0                  1                3.0         0.001695  \n",
      "2556                 0                  1                3.0         0.001695  \n",
      "2752                 0                  1                3.0         0.008409  \n",
      "2539                 0                  1                3.0         0.001695  \n",
      "2827                 0                  1                3.0         0.002511  \n",
      "3026                 0                  1                3.0         0.002488  \n",
      "2456                 0                  1                3.0         0.003382  \n",
      "2501                 0                  1                3.0         0.001691  \n",
      "3098                 0                  1                3.0         0.002488  \n",
      "2678                 0                  1                3.0         0.014978  \n",
      "2412                 0                  1                3.0         0.003399  \n",
      "2466                 0                  1                3.0         0.003382  \n",
      "3241                 0                  1                3.0         0.019966  \n",
      "2426                 0                  1                3.0         0.003382  \n",
      "2467                 0                  1                3.0         0.003382  \n",
      "2746                 0                  1                3.0         1.060842  \n",
      "3068                 0                  1                3.0         0.004970  \n",
      "2459                 0                  1                3.0         0.001682  \n",
      "2900                 0                  1                3.0         0.004970  \n",
      "3028                 0                  1                3.0         0.012431  \n",
      "2880                 0                  1                3.0         0.007459  \n",
      "2949                 0                  1                3.0         0.004972  \n",
      "2674                 0                  1                3.0         0.007465  \n",
      "2858                 0                  1                3.0         0.027348  \n",
      "3099                 0                  1                3.0         0.002486  \n",
      "2673                 0                  1                3.0         0.007465  \n",
      "\n",
      "[198928 rows x 125 columns]\n"
     ]
    }
   ],
   "source": [
    "print(onsseter.df)"
   ]
  },
  {
   "cell_type": "markdown",
   "metadata": {},
   "source": [
    "## Exporting results\n",
    "\n",
    "This code generates two csv files:\n",
    " - one containing all the results for the scenario created\n",
    " - one containing the summary for the scenario created\n",
    "\n",
    "Before we proceed, please define the directory your output files should be located at. Sample file shall be located at .\\ gep-onsset\\sample_output. "
   ]
  },
  {
   "cell_type": "code",
   "execution_count": null,
   "metadata": {},
   "outputs": [],
   "source": [
    "# Update the output directory in the \"\"\n",
    "cd \"C:\\Users\\alekor\\Desktop\\GithubFolder\\gep-onsset\\sample_output\""
   ]
  },
  {
   "cell_type": "code",
   "execution_count": 30,
   "metadata": {},
   "outputs": [],
   "source": [
    "# Returning the result as a csv file\n",
    "onsseter.df.to_csv(r\"Results/Results_{c}_{sc}_{gp}_{dp}.csv\".format(c=country, sc=1, gp=grid_generation_cost, dp=diesel_price), index=False)\n",
    "\n",
    "# Returning the summary as a csv file\n",
    "summary_table.to_csv(r\"Results/Summary_{c}_{sc}_{gp}_{dp}.csv\".format(c=country, sc=1, gp=grid_generation_cost, dp=diesel_price), index=True)"
   ]
  },
  {
   "cell_type": "code",
   "execution_count": null,
   "metadata": {},
   "outputs": [],
   "source": []
  }
 ],
 "metadata": {
  "anaconda-cloud": {},
  "celltoolbar": "Raw Cell Format",
  "kernelspec": {
   "display_name": "Python 3",
   "language": "python",
   "name": "python3"
  },
  "language_info": {
   "codemirror_mode": {
    "name": "ipython",
    "version": 3
   },
   "file_extension": ".py",
   "mimetype": "text/x-python",
   "name": "python",
   "nbconvert_exporter": "python",
   "pygments_lexer": "ipython3",
   "version": "3.7.3"
  }
 },
 "nbformat": 4,
 "nbformat_minor": 2
}
