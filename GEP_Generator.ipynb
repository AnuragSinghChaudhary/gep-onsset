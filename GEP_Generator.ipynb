{
 "cells": [
  {
   "cell_type": "markdown",
   "metadata": {},
   "source": [
    "# Welcome to the GEP Generator\n",
    "\n",
    "This jupyter based interface has been designed to support scenario runs for the Global Electrification Platform. \n",
    "\n",
    "The interface is built upon a modified version of [OnSSET](http://www.onsset.org/) developed by KTH dESA to provide an easy and quick way to generate electrification investment scenarios compatible with GEP data guidelines and protocols. \n",
    "\n",
    "Follow the steps below to generate custom electrification investment outlooks for your country of interest."
   ]
  },
  {
   "cell_type": "markdown",
   "metadata": {},
   "source": [
    "#### Start by importing the code "
   ]
  },
  {
   "cell_type": "code",
   "execution_count": 32,
   "metadata": {},
   "outputs": [
    {
     "name": "stderr",
     "output_type": "stream",
     "text": [
      "2019-06-16 16:16:28,895\t\tLoaded backend module://ipykernel.pylab.backend_inline version unknown.\n"
     ]
    }
   ],
   "source": [
    "from gep_onsset import *\n",
    "from IPython.display import display, Markdown, HTML\n",
    "%matplotlib inline"
   ]
  },
  {
   "cell_type": "markdown",
   "metadata": {},
   "source": [
    "# 1. GIS data selection\n",
    "\n",
    "First, run the cell below to browse to the directory your input CSV file is located at and select the input file. Sample file shall be located at .\\ gep-onsset\\test_data. \n"
   ]
  },
  {
   "cell_type": "code",
   "execution_count": 33,
   "metadata": {},
   "outputs": [],
   "source": [
    "import tkinter as tk\n",
    "from tkinter import filedialog, messagebox\n",
    "from openpyxl import load_workbook\n",
    "root = tk.Tk()\n",
    "root.withdraw()\n",
    "root.attributes(\"-topmost\", True)\n",
    "messagebox.showinfo('OnSSET', 'Open the input file with extracted GIS data')\n",
    "input_file = filedialog.askopenfilename()\n",
    "\n",
    "onsseter = SettlementProcessor(input_file)\n",
    "onsseter.df['IsUrban'] = 0\n",
    "onsseter.df['Conflict'] = 0\n",
    "onsseter.df['PerCapitaDemand'] = 0"
   ]
  },
  {
   "cell_type": "markdown",
   "metadata": {},
   "source": [
    "# 2. Modelling period and target electrification rate\n",
    "\n",
    "Next, define the modelling period and the electrification rate to be achieved by the end of the analysis. Further down you will also define an intermediate year and target (in the ***Levers*** section)."
   ]
  },
  {
   "cell_type": "code",
   "execution_count": 34,
   "metadata": {},
   "outputs": [],
   "source": [
    "start_year = 2018\n",
    "end_year = 2035\n",
    "electrification_rate_target = 1 # E.g. 1 for 100% electrification rate or 0.80 for 80% electrification rate "
   ]
  },
  {
   "cell_type": "markdown",
   "metadata": {},
   "source": [
    "# 3. Levers\n",
    "\n",
    "Next, define the values of the levers. These are the 6 levers that are available on the GEP Explorer. Contrary to the GEP Explorer where each lever has two or three pre-defined values, here they can take any value."
   ]
  },
  {
   "cell_type": "markdown",
   "metadata": {},
   "source": [
    "#### Lever 1: Population growth\n",
    "\n",
    "For the first lever first, enter the expected population in the country by the end year of the analysis (e.g. 2030). The default values in the GEP Explorer are based on the medium growth variant and high growth variant of the UN Population Database, found <a href=\"https://population.un.org/wpp/\" target=\"_blank\">here</a>."
   ]
  },
  {
   "cell_type": "code",
   "execution_count": 35,
   "metadata": {},
   "outputs": [],
   "source": [
    "end_year_pop = 26858618"
   ]
  },
  {
   "cell_type": "markdown",
   "metadata": {},
   "source": [
    "#### Lever 2: Electricity demand target\n",
    "For the second lever, enter the target tier (level of electricity access) for urban and rural households respectively. This can take a value between **1** (lowest level of electricity access) and **5** (highest level of electricity access) as in ESMAPs Multi-Tier Framework for Measuring Electricity Access (found <a href=\"https://www.esmap.org/node/55526\" target=\"_blank\">here</a>). Alternatively, enter **6** to use a distribution of the tiers across the country based on poverty levels and GDP according to the methodology found here *link*.   "
   ]
  },
  {
   "cell_type": "code",
   "execution_count": 36,
   "metadata": {},
   "outputs": [],
   "source": [
    "urban_target_tier = 4\n",
    "rural_target_tier = 3"
   ]
  },
  {
   "cell_type": "markdown",
   "metadata": {},
   "source": [
    "#### Lever 3: Intermediate electrification rate target\n",
    "For the third lever, enter the intermediate target year and target electrification rate for that year."
   ]
  },
  {
   "cell_type": "code",
   "execution_count": 37,
   "metadata": {},
   "outputs": [],
   "source": [
    "intermediate_year = 2027\n",
    "intermediate_electrification_target = 0.63 # E.g. for a target electrification rate of 75%, enter 0.75"
   ]
  },
  {
   "cell_type": "markdown",
   "metadata": {},
   "source": [
    "#### Lever 4: Grid generating cost of electricity\n",
    "This lever examines different average costs of generating electricity by the power-plants connected to the national grid. This cost is one of the factors that affect the LCoE of connecting to the grid (together with extension of the grid lines etc.), and may affect the split between grid- and off-grid technologies."
   ]
  },
  {
   "cell_type": "code",
   "execution_count": 38,
   "metadata": {},
   "outputs": [],
   "source": [
    "grid_generation_cost = 0.046622           ### This is the grid cost electricity USD/kWh as expected in the end year of the analysis"
   ]
  },
  {
   "cell_type": "markdown",
   "metadata": {},
   "source": [
    "#### Lever 5: PV system cost adjustment\n",
    "This lever reflects the role of PV system costs on electrification results. All PV based systems will be adjusted by a factor to simulate a higher or lower cost of PV systems (compared to the baseline values entered below). A value lower than 1 means lower investment costs for PV systems compared to baseline, and a value larger than 1 means higher investment cost for PV systems compared to baseline. E.g. ***0.75*** would mean a cost that is 25% lower compared to baseline costs."
   ]
  },
  {
   "cell_type": "code",
   "execution_count": 39,
   "metadata": {},
   "outputs": [],
   "source": [
    "pv_adjustment_factor = 1"
   ]
  },
  {
   "cell_type": "markdown",
   "metadata": {},
   "source": [
    "#### Lever 6: Prioritization algorithm\n",
    "This lever reflects the prioritization approach in order to achieve the electrification rate specified (in Lever 3) in intermediate target year of the analysis. There are currently two options available:\n",
    "\n",
    "**Baseline**: Prioritizes grid densification first (ramp up in already electrified clusters) then selection based on lowest invetsment cost per capita. Grid densification is limited by a grid capacity cap per year and a number of sensible grid connections per year.\n",
    "\n",
    "**Intensification**: Same as above, plus automatic grid intensification to all clusters within a predefined buffer of X km. (Default value for X is 2km)"
   ]
  },
  {
   "cell_type": "code",
   "execution_count": 40,
   "metadata": {},
   "outputs": [],
   "source": [
    "prioritization = 2                        # Select 1 or 2. 1 = baseline, 2 = intensification\n",
    "\n",
    "auto_intensification = 2                  # Buffer distance (km) for automatic intensification if choosing prioritization 1\n",
    "annual_new_grid_connections_limit = 109 # This is the maximum amount of new households that can be connected to the grid in one year (thousands)\n",
    "annual_grid_cap_gen_limit = 100       # This is the maximum generation capacity that can be added to the grid in one year (MW)"
   ]
  },
  {
   "cell_type": "markdown",
   "metadata": {},
   "source": [
    "# 4. Enter country specific data\n",
    "\n",
    "In addition to the levers above the user can customize a large number of variables describing the social - economic - technological environment in the selected country. \n",
    "\n",
    "**Note!** Most input values shall represent future estimates for the variable, i.e. they describe and **NOT** current values."
   ]
  },
  {
   "cell_type": "markdown",
   "metadata": {},
   "source": [
    "### a. Demographics and Social components"
   ]
  },
  {
   "cell_type": "code",
   "execution_count": 41,
   "metadata": {},
   "outputs": [],
   "source": [
    "pop_start_year = 18620000       ### Write the population in the base year (e.g. 2018) \n",
    "\n",
    "urban_ratio_start_year = 0.17   ### Write the urban population population ratio in the base year (e.g. 2018)\n",
    "urban_ratio_end_year = 0.20     ### Write the urban population population ratio in the end year (e.g. 2030)\n",
    "\n",
    "num_people_per_hh_urban = 4.3     ### Write the number of people per household expected in the end year (e.g. 2030)\n",
    "num_people_per_hh_rural = 4.5   ### Write the number of people per household expected in the end year (e.g. 2030)\n",
    "\n",
    "elec_ratio_start_year = 0.11   ### Write the electrification rate in the base year (e.g. 2018)\n",
    "urban_elec_ratio = 0.492       ### Write urban electrification rate in the base year (e.g. 2018)\n",
    "rural_elec_ratio = 0.032         ### Write rural electrification rate in the base year (e.g. 2018)"
   ]
  },
  {
   "cell_type": "markdown",
   "metadata": {},
   "source": [
    "### b. Technology specifications & costs\n",
    "\n",
    "The cell below contains all the information that is used to calculate the levelized costs for all the technologies, including grid. These default values should be updated to reflect the most accurate values in the country. There are currently 7 potential technologies to include in the model:\n",
    "* Grid\n",
    "* PV Mini-grid\n",
    "* Wind Mini-grid\n",
    "* Hydro Mini-grid\n",
    "* Diesel Mini-grid\n",
    "* PV Stand-alone systems\n",
    "* Diesel Stand-alone systems\n",
    "\n",
    "First, decide whether to include diesel technologies or not:"
   ]
  },
  {
   "cell_type": "code",
   "execution_count": 42,
   "metadata": {},
   "outputs": [],
   "source": [
    "diesel_techs = 0                      ### 0 = diesel NOT included, 1 = diesel included "
   ]
  },
  {
   "cell_type": "code",
   "execution_count": 43,
   "metadata": {},
   "outputs": [],
   "source": [
    "grid_power_plants_capital_cost = 2000 ### The cost in USD/kW to for capacity upgrades of the grid\n",
    "grid_losses = 0.1                     ### The fraction of electricity lost in transmission and distribution (percentage) \n",
    "base_to_peak = 0.6                    ### The ratio of base grid demand to peak demand (percentage) \n",
    "existing_grid_cost_ratio = 0.1        ### The additional cost per round of electrification (percentage) "
   ]
  },
  {
   "cell_type": "code",
   "execution_count": 44,
   "metadata": {},
   "outputs": [],
   "source": [
    "diesel_price = 0.5                   ### This is the diesel price in USD/liter as expected in the end year of the analysis."
   ]
  },
  {
   "cell_type": "code",
   "execution_count": 45,
   "metadata": {},
   "outputs": [],
   "source": [
    "sa_diesel_capital_cost = 938          ### Stand-alone Diesel capital cost (USD/kW) as expected in the years of the analysis\n",
    "mg_diesel_capital_cost = 721          ### Mini-grid Diesel capital cost (USD/kW) as expected in the years of the analysis\n",
    "mg_pv_capital_cost = 2950             ### Mini-grid PV capital cost (USD/kW) as expected in the years of the analysis\n",
    "mg_wind_capital_cost = 3750           ### Mini-grid Wind capital cost (USD/kW) as expected in the years of the analysis\n",
    "mg_hydro_capital_cost = 3000          ### Mini-grid Hydro capital cost (USD/kW) as expected in the years of the analysis"
   ]
  },
  {
   "cell_type": "code",
   "execution_count": 46,
   "metadata": {},
   "outputs": [],
   "source": [
    "sa_pv_capital_cost_1 = 9620          ### Stand-alone PV capital cost (USD/kW) for household systems under 20 W\n",
    "sa_pv_capital_cost_2 = 8780          ### Stand-alone PV capital cost (USD/kW) for household systems between 21-50 W\n",
    "sa_pv_capital_cost_3 = 6380           ### Stand-alone PV capital cost (USD/kW) for household systems between 51-100 W\n",
    "sa_pv_capital_cost_4 = 4470           ### Stand-alone PV capital cost (USD/kW) for household systems between 101-1000 W\n",
    "sa_pv_capital_cost_5 = 6950           ### Stand-alone PV capital cost (USD/kW) for household systems over 1 kW"
   ]
  },
  {
   "cell_type": "markdown",
   "metadata": {},
   "source": [
    "The cells below contain additional technology specifications"
   ]
  },
  {
   "cell_type": "code",
   "execution_count": 47,
   "metadata": {},
   "outputs": [],
   "source": [
    "coordinate_units = 1000  # 1000 if coordinates are in m, 1 if coordinates are in km\n",
    "discount_rate = 0.08 # E.g. 0.08 means a discount rate of 8%\n",
    "\n",
    "# Transmission and distribution costs\n",
    "hv_line_capacity=69 # kV\n",
    "hv_line_cost=53000 # USD/km\n",
    "mv_line_cost = 7000 # USD/kW\n",
    "mv_line_capacity=50 # kV\n",
    "mv_line_max_length=50 # km\n",
    "mv_increase_rate=0.1\n",
    "max_mv_line_dist = 50 # km\n",
    "MV_line_amperage_limit = 8  # Ampere (A)\n",
    "lv_line_capacity=0.24 #kV\n",
    "lv_line_max_length=0.8 # km\n",
    "lv_line_cost=4250 # USD/km\n",
    "service_Transf_type=50  # kVa\n",
    "service_Transf_cost=4250  # $/unit\n",
    "max_nodes_per_serv_trans=300  # maximum number of nodes served by each service transformer\n",
    "hv_lv_transformer_cost=25000 # USD/unit\n",
    "hv_mv_transformer_cost=25000 # USD/unit\n",
    "mv_lv_transformer_cost=10000 # USD/unit\n",
    "mv_mv_transformer_cost=10000 # USD/unit\n",
    "\n",
    "\n",
    "# Centralized grid costs\n",
    "grid_calc = Technology(om_of_td_lines=0.1,\n",
    "                        distribution_losses=grid_losses,\n",
    "                        connection_cost_per_hh=150,\n",
    "                        base_to_peak_load_ratio=base_to_peak,\n",
    "                        capacity_factor=1,\n",
    "                        tech_life=30,\n",
    "                        grid_capacity_investment=grid_power_plants_capital_cost,\n",
    "                        grid_price=grid_generation_cost)\n",
    "\n",
    "# Mini-grid hydro costs\n",
    "mg_hydro_calc = Technology(om_of_td_lines=0.03,\n",
    "                            distribution_losses=0.05,\n",
    "                            connection_cost_per_hh=100,\n",
    "                            base_to_peak_load_ratio=0.85,\n",
    "                            capacity_factor=0.5,\n",
    "                            tech_life=30,\n",
    "                            capital_cost=mg_hydro_capital_cost,\n",
    "                            om_costs=0.02,\n",
    "                            )\n",
    "\n",
    "# Mini-grid wind costs\n",
    "mg_wind_calc = Technology(om_of_td_lines=0.03,\n",
    "                            distribution_losses=0.05,\n",
    "                            connection_cost_per_hh=100,\n",
    "                            base_to_peak_load_ratio=0.85,\n",
    "                            capital_cost=mg_wind_capital_cost,\n",
    "                            om_costs=0.02,\n",
    "                            tech_life=20,\n",
    "                            )\n",
    "\n",
    "# Mini-grid PV costs\n",
    "mg_pv_calc = Technology(om_of_td_lines=0.03,\n",
    "                        distribution_losses=0.05,\n",
    "                        connection_cost_per_hh=100,\n",
    "                        base_to_peak_load_ratio=0.85,\n",
    "                        tech_life=20,\n",
    "                        om_costs=0.02,\n",
    "                        capital_cost=mg_pv_capital_cost * pv_adjustment_factor                        \n",
    "                       )\n",
    "\n",
    "# Stand-alone PV costs\n",
    "sa_pv_calc = Technology(base_to_peak_load_ratio=0.9,\n",
    "                        tech_life=15,\n",
    "                        om_costs=0.02,\n",
    "                        capital_cost={0.020: sa_pv_capital_cost_1 * pv_adjustment_factor, \n",
    "                                      0.050: sa_pv_capital_cost_2 * pv_adjustment_factor, \n",
    "                                      0.100: sa_pv_capital_cost_3 * pv_adjustment_factor, \n",
    "                                      1: sa_pv_capital_cost_4 * pv_adjustment_factor, \n",
    "                                      5: sa_pv_capital_cost_5 * pv_adjustment_factor},\n",
    "                        standalone=True\n",
    "                        )\n",
    "\n",
    "# Mini-grid diesel costs\n",
    "mg_diesel_calc = Technology(om_of_td_lines=0.03,\n",
    "                            distribution_losses=0.05,\n",
    "                            connection_cost_per_hh=100,\n",
    "                            base_to_peak_load_ratio=0.85,\n",
    "                            capacity_factor=0.7,\n",
    "                            tech_life=15,\n",
    "                            om_costs=0.1,\n",
    "                            efficiency=0.33,\n",
    "                            capital_cost=mg_diesel_capital_cost,\n",
    "                            diesel_price=diesel_price,\n",
    "                            diesel_truck_consumption=33.7,\n",
    "                            diesel_truck_volume=15000,\n",
    "                            )\n",
    "\n",
    "# Stand-alone diesel costs\n",
    "sa_diesel_calc = Technology(base_to_peak_load_ratio=0.9,\n",
    "                            capacity_factor=0.7,\n",
    "                            tech_life=10,\n",
    "                            om_costs=0.1,\n",
    "                            capital_cost=sa_diesel_capital_cost,\n",
    "                            diesel_price=diesel_price,\n",
    "                            standalone=True,\n",
    "                            efficiency=0.28,\n",
    "                            diesel_truck_consumption=14,\n",
    "                            diesel_truck_volume=300)"
   ]
  },
  {
   "cell_type": "markdown",
   "metadata": {},
   "source": [
    "# 5. GIS data import and processing\n",
    "\n",
    "OnSSET is a GIS based tool and its proper function depends heavily on the diligent preparation and calibration of the necessary geospatial data. Documentation on GIS processing in regards to OnSSET can be found <a href=\"http://onsset-manual.readthedocs.io/en/latest/data_acquisition.html\" target=\"_blank\">here</a>. The following cell reads the CSV-file containing the extracted GIS data for the country chosen in the previous section, and displays a snap-shot of some of the data."
   ]
  },
  {
   "cell_type": "code",
   "execution_count": 48,
   "metadata": {
    "scrolled": false
   },
   "outputs": [
    {
     "name": "stderr",
     "output_type": "stream",
     "text": [
      "2019-06-16 16:16:42,862\t\tEnsure that columns that are supposed to be numeric are numeric\n",
      "2019-06-16 16:16:42,871\t\tAdding column \"ElectrificationOrder\"\n",
      "2019-06-16 16:16:42,872\t\tReplace null values with zero\n",
      "2019-06-16 16:16:42,878\t\tSort by country, Y and X\n",
      "2019-06-16 16:16:42,897\t\tClassify road dist\n",
      "2019-06-16 16:16:43,260\t\tClassify substation dist\n",
      "2019-06-16 16:16:43,774\t\tClassify land cover\n",
      "2019-06-16 16:16:44,316\t\tClassify elevation\n",
      "2019-06-16 16:16:44,848\t\tClassify slope\n",
      "2019-06-16 16:16:45,362\t\tCombined classification\n",
      "2019-06-16 16:16:45,369\t\tGrid penalty\n",
      "2019-06-16 16:16:45,818\t\tCalculate Wind CF\n",
      "2019-06-16 16:16:46,934\t\tCalibrate current population\n",
      "2019-06-16 16:16:47,475\t\tProject future population\n"
     ]
    },
    {
     "data": {
      "text/markdown": [
       "#### The csv file has been imported correctly. Here is a preview:"
      ],
      "text/plain": [
       "<IPython.core.display.Markdown object>"
      ]
     },
     "metadata": {},
     "output_type": "display_data"
    },
    {
     "data": {
      "text/html": [
       "<div>\n",
       "<style scoped>\n",
       "    .dataframe tbody tr th:only-of-type {\n",
       "        vertical-align: middle;\n",
       "    }\n",
       "\n",
       "    .dataframe tbody tr th {\n",
       "        vertical-align: top;\n",
       "    }\n",
       "\n",
       "    .dataframe thead th {\n",
       "        text-align: right;\n",
       "    }\n",
       "</style>\n",
       "<table border=\"1\" class=\"dataframe\">\n",
       "  <thead>\n",
       "    <tr style=\"text-align: right;\">\n",
       "      <th></th>\n",
       "      <th>Country</th>\n",
       "      <th>Pop</th>\n",
       "      <th>NightLights</th>\n",
       "      <th>TravelHours</th>\n",
       "      <th>GHI</th>\n",
       "      <th>WindVel</th>\n",
       "      <th>Hydropower</th>\n",
       "      <th>HydropowerDist</th>\n",
       "    </tr>\n",
       "  </thead>\n",
       "  <tbody>\n",
       "    <tr>\n",
       "      <th>7092</th>\n",
       "      <td>Malawi</td>\n",
       "      <td>297.53532</td>\n",
       "      <td>0.0</td>\n",
       "      <td>1.80000</td>\n",
       "      <td>2062</td>\n",
       "      <td>4.83147</td>\n",
       "      <td>221</td>\n",
       "      <td>17.16522</td>\n",
       "    </tr>\n",
       "    <tr>\n",
       "      <th>9037</th>\n",
       "      <td>Malawi</td>\n",
       "      <td>29.46244</td>\n",
       "      <td>0.0</td>\n",
       "      <td>2.05000</td>\n",
       "      <td>2060</td>\n",
       "      <td>4.89057</td>\n",
       "      <td>221</td>\n",
       "      <td>14.03799</td>\n",
       "    </tr>\n",
       "    <tr>\n",
       "      <th>7849</th>\n",
       "      <td>Malawi</td>\n",
       "      <td>16.58582</td>\n",
       "      <td>0.0</td>\n",
       "      <td>1.26667</td>\n",
       "      <td>2046</td>\n",
       "      <td>4.53001</td>\n",
       "      <td>221</td>\n",
       "      <td>27.01123</td>\n",
       "    </tr>\n",
       "    <tr>\n",
       "      <th>28433</th>\n",
       "      <td>Malawi</td>\n",
       "      <td>7.92187</td>\n",
       "      <td>0.0</td>\n",
       "      <td>2.13333</td>\n",
       "      <td>2089</td>\n",
       "      <td>4.75651</td>\n",
       "      <td>364</td>\n",
       "      <td>9.50646</td>\n",
       "    </tr>\n",
       "    <tr>\n",
       "      <th>14527</th>\n",
       "      <td>Malawi</td>\n",
       "      <td>9.35721</td>\n",
       "      <td>0.0</td>\n",
       "      <td>2.48333</td>\n",
       "      <td>2197</td>\n",
       "      <td>5.22498</td>\n",
       "      <td>337</td>\n",
       "      <td>39.04087</td>\n",
       "    </tr>\n",
       "    <tr>\n",
       "      <th>8909</th>\n",
       "      <td>Malawi</td>\n",
       "      <td>139.94661</td>\n",
       "      <td>0.0</td>\n",
       "      <td>2.06667</td>\n",
       "      <td>2057</td>\n",
       "      <td>4.96361</td>\n",
       "      <td>221</td>\n",
       "      <td>13.25169</td>\n",
       "    </tr>\n",
       "    <tr>\n",
       "      <th>12337</th>\n",
       "      <td>Malawi</td>\n",
       "      <td>2.11257</td>\n",
       "      <td>0.0</td>\n",
       "      <td>2.13333</td>\n",
       "      <td>2064</td>\n",
       "      <td>4.99722</td>\n",
       "      <td>3862</td>\n",
       "      <td>39.43999</td>\n",
       "    </tr>\n",
       "  </tbody>\n",
       "</table>\n",
       "</div>"
      ],
      "text/plain": [
       "      Country        Pop  NightLights  TravelHours   GHI  WindVel  Hydropower  \\\n",
       "7092   Malawi  297.53532          0.0      1.80000  2062  4.83147         221   \n",
       "9037   Malawi   29.46244          0.0      2.05000  2060  4.89057         221   \n",
       "7849   Malawi   16.58582          0.0      1.26667  2046  4.53001         221   \n",
       "28433  Malawi    7.92187          0.0      2.13333  2089  4.75651         364   \n",
       "14527  Malawi    9.35721          0.0      2.48333  2197  5.22498         337   \n",
       "8909   Malawi  139.94661          0.0      2.06667  2057  4.96361         221   \n",
       "12337  Malawi    2.11257          0.0      2.13333  2064  4.99722        3862   \n",
       "\n",
       "       HydropowerDist  \n",
       "7092         17.16522  \n",
       "9037         14.03799  \n",
       "7849         27.01123  \n",
       "28433         9.50646  \n",
       "14527        39.04087  \n",
       "8909         13.25169  \n",
       "12337        39.43999  "
      ]
     },
     "metadata": {},
     "output_type": "display_data"
    }
   ],
   "source": [
    "yearsofanalysis = [intermediate_year, end_year]\n",
    "\n",
    "onsseter.condition_df()\n",
    "onsseter.grid_penalties()\n",
    "onsseter.calc_wind_cfs()\n",
    "onsseter.calibrate_pop_and_urban(pop_start_year, end_year_pop, end_year_pop, urban_ratio_start_year, \n",
    "                                 urban_ratio_end_year, start_year, end_year, intermediate_year)\n",
    "\n",
    "eleclimits = {intermediate_year: intermediate_electrification_target, end_year: electrification_rate_target}\n",
    "time_steps = {intermediate_year: intermediate_year-start_year, end_year: end_year-intermediate_year}\n",
    "\n",
    "display(Markdown('#### The csv file has been imported correctly. Here is a preview:'))\n",
    "display(onsseter.df[['Country','Pop','NightLights','TravelHours','GHI','WindVel','Hydropower','HydropowerDist']].sample(7))\n"
   ]
  },
  {
   "cell_type": "markdown",
   "metadata": {},
   "source": [
    "#### Calibration of currently electrified settlements\n",
    "\n",
    "The model calibrates which settlements are likely to be electrified in the start year, to match the national statistical values defined above. A settlement is considered to be electrified if it meets all of the following conditions:\n",
    "- Has more night-time lights than the defined threshold (this is set to 0 by default)\n",
    "- Is closer to the existing grid network than the distance limit\n",
    "- Has more population than the threshold\n",
    "\n",
    "First, define the threshold limits. Then run the calibration and check if the results seem okay. Else, redefine these thresholds and run again."
   ]
  },
  {
   "cell_type": "code",
   "execution_count": 49,
   "metadata": {
    "scrolled": true
   },
   "outputs": [
    {
     "name": "stderr",
     "output_type": "stream",
     "text": [
      "2019-06-16 16:16:53,271\t\tCalibrate current electrification\n"
     ]
    },
    {
     "name": "stdout",
     "output_type": "stream",
     "text": [
      "We have identified the existence of transformers or MV lines as input data; therefore we proceed using those for the calibration\n",
      "The rural settlements identified as electrified are lower than in statistics; Please re-adjust the calibration conditions\n",
      "The modelled electrification rate achieved is 0.10.Urban elec. rate is 0.48 and Rural elec. rate is 0.02. \n",
      "If this is not acceptable please revise this part of the algorithm\n"
     ]
    }
   ],
   "source": [
    "min_night_lights = 0    ### 0 Indicates no night light, while any number above refers to the night-lights intensity\n",
    "min_pop = 0      ### Settlement population above which we can assume that it could be electrified\n",
    "\n",
    "max_service_transformer_distance = 2    ### Distance  in km from the existing grid network below which we can assume a settlement could be electrified\n",
    "max_mv_line_distance = 2\n",
    "max_hv_line_distance = 25\n",
    "\n",
    "Technology.set_default_values(base_year=start_year, start_year=start_year, end_year=end_year, discount_rate=discount_rate,\n",
    "                             HV_line_type=hv_line_capacity, HV_line_cost=hv_line_cost, MV_line_type=mv_line_capacity,\n",
    "                             MV_line_amperage_limit=MV_line_amperage_limit, MV_line_cost=mv_line_cost, LV_line_type=lv_line_capacity,\n",
    "                             LV_line_cost=lv_line_cost, LV_line_max_length=lv_line_max_length, \n",
    "                             service_Transf_type=service_Transf_type, service_Transf_cost = service_Transf_cost,\n",
    "                             max_nodes_per_serv_trans=max_nodes_per_serv_trans, MV_LV_sub_station_cost=mv_lv_transformer_cost,\n",
    "                             MV_MV_sub_station_cost=mv_mv_transformer_cost, HV_LV_sub_station_cost=hv_lv_transformer_cost,\n",
    "                             HV_MV_sub_station_cost=hv_mv_transformer_cost)\n",
    "\n",
    "elec_modelled, urban_internal_elec_ratio, rural_internal_elec_ratio = onsseter.elec_current_and_future(elec_ratio_start_year, \n",
    "                                                                                                       urban_elec_ratio, \n",
    "                                                                                                       rural_elec_ratio, \n",
    "                                                                                                       pop_start_year, \n",
    "                                                                                                       start_year,\n",
    "                                                                                                       min_night_lights=min_night_lights, \n",
    "                                                                                                       min_pop=min_pop, \n",
    "                                                                                                       max_transformer_dist=max_service_transformer_distance, \n",
    "                                                                                                       max_mv_dist=max_mv_line_distance, \n",
    "                                                                                                       max_hv_dist=max_hv_line_distance) \n",
    "\n",
    "onsseter.grid_reach_estimate(start_year, gridspeed=9999)"
   ]
  },
  {
   "cell_type": "markdown",
   "metadata": {},
   "source": [
    "The figure below show the results of the calibration. Settlements in **blue** are considered to be (at least partly) electrified already in the start year of the analysis, while settlements in **yellow** are yet to be electrified. Re-running the calibration step with different intial values may change the map below."
   ]
  },
  {
   "cell_type": "code",
   "execution_count": 50,
   "metadata": {
    "scrolled": false
   },
   "outputs": [
    {
     "data": {
      "text/plain": [
       "<Figure size 2160x2160 with 0 Axes>"
      ]
     },
     "execution_count": 50,
     "metadata": {},
     "output_type": "execute_result"
    },
    {
     "name": "stderr",
     "output_type": "stream",
     "text": [
      "2019-06-16 16:16:55,867\t\tupdate_title_pos\n",
      "2019-06-16 16:16:55,919\t\tupdate_title_pos\n",
      "2019-06-16 16:16:55,971\t\tupdate_title_pos\n",
      "2019-06-16 16:16:56,000\t\tupdate_title_pos\n",
      "2019-06-16 16:16:56,020\t\tupdate_title_pos\n"
     ]
    },
    {
     "data": {
      "image/png": "[encoded data removed]",
      "text/plain": [
       "<Figure size 648x648 with 1 Axes>"
      ]
     },
     "metadata": {
      "needs_background": "light"
     },
     "output_type": "display_data"
    },
    {
     "data": {
      "text/plain": [
       "<Figure size 2160x2160 with 0 Axes>"
      ]
     },
     "metadata": {},
     "output_type": "display_data"
    }
   ],
   "source": [
    "from matplotlib import pyplot as plt\n",
    "colors = ['#73B2FF','#EDD100','#EDA800','#1F6600','#98E600','#70A800','#1FA800']\n",
    "plt.figure(figsize=(9,9))\n",
    "plt.plot(onsseter.df.loc[onsseter.df[SET_ELEC_CURRENT]==0, SET_X_DEG], onsseter.df.loc[onsseter.df[SET_ELEC_CURRENT]==0, SET_Y_DEG], 'y,')\n",
    "plt.plot(onsseter.df.loc[onsseter.df[SET_ELEC_CURRENT]==1, SET_X_DEG], onsseter.df.loc[onsseter.df[SET_ELEC_CURRENT]==1, SET_Y_DEG], 'b,')\n",
    "if onsseter.df[SET_X_DEG].max() - onsseter.df[SET_X_DEG].min() > onsseter.df[SET_Y_DEG].max() - onsseter.df[SET_Y_DEG].min():\n",
    "    plt.xlim(onsseter.df[SET_X_DEG].min() - 1, onsseter.df[SET_X_DEG].max() + 1)\n",
    "    plt.ylim((onsseter.df[SET_Y_DEG].min()+onsseter.df[SET_Y_DEG].max())/2 - 0.5*abs(onsseter.df[SET_X_DEG].max() - onsseter.df[SET_X_DEG].min()) - 1, (onsseter.df[SET_Y_DEG].min()+onsseter.df[SET_Y_DEG].max())/2 + 0.5*abs(onsseter.df[SET_X_DEG].max() - onsseter.df[SET_X_DEG].min()) + 1)\n",
    "else:\n",
    "    plt.xlim((onsseter.df[SET_X_DEG].min()+onsseter.df[SET_X_DEG].max())/2 - 0.5*abs(onsseter.df[SET_Y_DEG].max() - onsseter.df[SET_Y_DEG].min()) - 1, (onsseter.df[SET_X_DEG].min()+onsseter.df[SET_X_DEG].max())/2 + 0.5*abs(onsseter.df[SET_Y_DEG].max() - onsseter.df[SET_Y_DEG].min()) + 1)\n",
    "    plt.ylim(onsseter.df[SET_Y_DEG].min() -1, onsseter.df[SET_Y_DEG].max() +1)\n",
    "plt.figure(figsize=(30,30))"
   ]
  },
  {
   "cell_type": "markdown",
   "metadata": {},
   "source": [
    "In some cases it can be of interest to filter out clusters with very low populations, e.g. to increase computational speed or to remove false positives in the data. Setting the **pop_threshold** variable below larger than 0 will filter out all settlements below that threshold form the analysis."
   ]
  },
  {
   "cell_type": "code",
   "execution_count": 51,
   "metadata": {},
   "outputs": [],
   "source": [
    "pop_threshold = 0  # If you wish to remove low density population cells, enter a threshold above 0\n",
    "onsseter.df = onsseter.df.loc[onsseter.df[SET_POP] > pop_threshold]"
   ]
  },
  {
   "cell_type": "markdown",
   "metadata": {},
   "source": [
    "# 6. Define the demand\n",
    "\n",
    "This piece of code defines the target electricity demand in the region/country. Residential electricity demand is defined as kWh/household/year, while all other demands are defined as kWh/capita/year. Note that at the moment, all productive uses demands are set to 0 by default."
   ]
  },
  {
   "cell_type": "code",
   "execution_count": 52,
   "metadata": {},
   "outputs": [
    {
     "name": "stderr",
     "output_type": "stream",
     "text": [
      "2019-06-16 16:16:56,117\t\tPopulate ResidentialDemandTier columns\n"
     ]
    }
   ],
   "source": [
    "# Define the annual household electricity targets to choose from\n",
    "tier_1 = 38.7  # 38.7 refers to kWh/household/year. \n",
    "tier_2 = 219\n",
    "tier_3 = 803\n",
    "tier_4 = 2117\n",
    "tier_5 = 2993\n",
    "\n",
    "onsseter.prepare_wtf_tier_columns(num_people_per_hh_rural, num_people_per_hh_urban, tier_1, tier_2, tier_3, tier_4, tier_5)"
   ]
  },
  {
   "cell_type": "code",
   "execution_count": 53,
   "metadata": {},
   "outputs": [],
   "source": [
    "onsseter.df[SET_EDU_DEMAND] = 0           # Demand for educational facilities (kWh/capita/year)\n",
    "onsseter.df[SET_HEALTH_DEMAND] = 0        # Demand for health facilities (kWh/capita/year)\n",
    "onsseter.df[SET_COMMERCIAL_DEMAND] = 0    # Demand for commercial activities (kWh/capita/year)\n",
    "onsseter.df[SET_AGRI_DEMAND] = 0          # Demand for agricultural activities (kWh/capita/year)\n",
    "productive_demand = 0 # 1 if productive demand is defined and should be included, else 0"
   ]
  },
  {
   "cell_type": "markdown",
   "metadata": {},
   "source": [
    "# 7. Start a scenario run, which calculate and compare technology costs for every settlement in the country\n",
    "\n",
    "Based on the previous calculation this piece of code identifies the LCoE that every off-grid technology can provide, for each single populated settlement of the selected country. The cell then takes all the currently grid-connected points in the country, and looks at the points within a certain distance from them, to see if it is more economical to connect them to the grid, or to use one of the off-grid technologies calculated above. Once more points are connected to the grid, the process is repeated, so that new points close to those points might also be connected. This is repeated until there are no new points to connect to the grid."
   ]
  },
  {
   "cell_type": "code",
   "execution_count": 54,
   "metadata": {
    "scrolled": false
   },
   "outputs": [
    {
     "name": "stderr",
     "output_type": "stream",
     "text": [
      "2019-06-16 16:16:57,194\t\tDetermine current MV line length\n",
      "2019-06-16 16:16:57,233\t\tCalculate new connections\n",
      "2019-06-16 16:16:57,270\t\tSetting electrification demand as per target per year\n",
      "2019-06-16 16:16:57,406\t\tCalculate minigrid hydro LCOE\n",
      "2019-06-16 16:16:58,270\t\t5 potential hydropower sites were utilised to maximum capacity\n",
      "2019-06-16 16:16:58,271\t\tCalculate minigrid PV LCOE\n",
      "2019-06-16 16:17:01,904\t\tCalculate minigrid wind LCOE\n",
      "2019-06-16 16:17:02,504\t\tCalculate standalone PV LCOE\n",
      "2019-06-16 16:17:05,932\t\tDetermine minimum technology (off-grid)\n",
      "2019-06-16 16:17:05,975\t\tDetermine minimum tech LCOE\n",
      "2019-06-16 16:17:06,056\t\tDefine the initial electrification status\n",
      "2019-06-16 16:17:06,112\t\tElectrification algorithm starts running\n",
      "2019-06-16 16:17:09,005\t\tInitially 4686 electrified\n",
      "2019-06-16 16:17:13,074\t\tDetermine minimum overall\n",
      "2019-06-16 16:17:13,163\t\tDetermine minimum overall LCOE\n",
      "2019-06-16 16:17:13,175\t\tAdd technology codes\n",
      "2019-06-16 16:17:13,252\t\tCalculate investment cost\n",
      "2019-06-16 16:17:16,491\t\tDetermine electrification limits\n",
      "2019-06-16 16:17:22,535\t\tDetermine final electrification decision\n",
      "2019-06-16 16:17:22,604\t\tCalculate new capacity\n",
      "2019-06-16 16:17:22,660\t\tCalculate new connections\n",
      "2019-06-16 16:17:22,707\t\tSetting electrification demand as per target per year\n"
     ]
    },
    {
     "name": "stdout",
     "output_type": "stream",
     "text": [
      "Further modification is needed in the limitation algorithm as goals is difficult to reach with the existing assumptions\n",
      "The electrification rate achieved in 2027 is 59.4 %\n"
     ]
    },
    {
     "name": "stderr",
     "output_type": "stream",
     "text": [
      "2019-06-16 16:17:22,813\t\tCalculate minigrid hydro LCOE\n",
      "2019-06-16 16:17:23,679\t\t5 potential hydropower sites were utilised to maximum capacity\n",
      "2019-06-16 16:17:23,680\t\tCalculate minigrid PV LCOE\n",
      "2019-06-16 16:17:27,081\t\tCalculate minigrid wind LCOE\n",
      "2019-06-16 16:17:27,710\t\tCalculate standalone PV LCOE\n",
      "2019-06-16 16:17:31,130\t\tDetermine minimum technology (off-grid)\n",
      "2019-06-16 16:17:31,177\t\tDetermine minimum tech LCOE\n",
      "2019-06-16 16:17:31,253\t\tDefine the initial electrification status\n",
      "2019-06-16 16:17:31,330\t\tElectrification algorithm starts running\n",
      "2019-06-16 16:17:33,659\t\tInitially 8721 electrified\n",
      "2019-06-16 16:17:38,515\t\tElectrification loop 1 with 819 electrified\n",
      "2019-06-16 16:17:39,637\t\tDetermine minimum overall\n",
      "2019-06-16 16:17:39,702\t\tDetermine minimum overall LCOE\n",
      "2019-06-16 16:17:39,718\t\tAdd technology codes\n",
      "2019-06-16 16:17:39,826\t\tCalculate investment cost\n",
      "2019-06-16 16:17:43,243\t\tDetermine electrification limits\n",
      "2019-06-16 16:17:43,245\t\tDetermine final electrification decision\n",
      "2019-06-16 16:17:43,343\t\tCalculate new capacity\n"
     ]
    },
    {
     "name": "stdout",
     "output_type": "stream",
     "text": [
      "The electrification rate achieved in 2035 is 100.0 %\n"
     ]
    }
   ],
   "source": [
    "onsseter.current_mv_line_dist()\n",
    "\n",
    "for year in yearsofanalysis:\n",
    "    end_year_pop = 1\n",
    "        \n",
    "    eleclimit = eleclimits[year]\n",
    "    time_step = time_steps[year]\n",
    "    grid_cap_gen_limit = time_step * annual_grid_cap_gen_limit * 1000\n",
    "    grid_connect_limit = time_step * annual_new_grid_connections_limit * 1000\n",
    "    \n",
    "    onsseter.set_scenario_variables(year, num_people_per_hh_rural, num_people_per_hh_urban, time_step,\n",
    "                                            start_year, urban_elec_ratio, rural_elec_ratio, urban_target_tier, \n",
    "                                            rural_target_tier, end_year_pop, productive_demand)\n",
    "\n",
    "    onsseter.calculate_off_grid_lcoes(mg_hydro_calc, mg_wind_calc, mg_pv_calc, sa_pv_calc, mg_diesel_calc,\n",
    "                                        sa_diesel_calc, 0, 0, 0, 0, 0, year, start_year, end_year, time_step,\n",
    "                                     diesel_techs=diesel_techs)\n",
    "\n",
    "    onsseter.pre_electrification(grid_calc, grid_generation_cost, year, time_step, start_year)\n",
    "\n",
    "    onsseter.run_elec(grid_calc, max_mv_line_dist, year, start_year, end_year, time_step,\n",
    "                              grid_cap_gen_limit, grid_connect_limit, auto_intensification, prioritization)\n",
    "\n",
    "    onsseter.results_columns(mg_hydro_calc, mg_wind_calc, mg_pv_calc, sa_pv_calc, mg_diesel_calc,\n",
    "                                     sa_diesel_calc, grid_calc, 0, 0, 0, 0, 0, year)\n",
    "\n",
    "    onsseter.calculate_investments(mg_hydro_calc, mg_wind_calc, mg_pv_calc, sa_pv_calc, mg_diesel_calc,\n",
    "                                           sa_diesel_calc, grid_calc, 0, 0, 0, 0, 0, year, end_year, time_step)\n",
    "\n",
    "    onsseter.apply_limitations(eleclimit, year, time_step, prioritization, auto_intensification)\n",
    "\n",
    "    onsseter.final_decision(mg_hydro_calc, mg_wind_calc, mg_pv_calc, sa_pv_calc, mg_diesel_calc, sa_diesel_calc,\n",
    "                                    grid_calc, 0, 0, 0, 0, 0, year, end_year, time_step)    "
   ]
  },
  {
   "cell_type": "markdown",
   "metadata": {},
   "source": [
    "# 8. Results, Summaries and Visualization\n",
    "With all the calculations and grid-extensions complete, this block gets the final results on which technology was chosen for each point, how much capacity needs to be installed and what it will cost. Then the summaries, plots and maps are generated."
   ]
  },
  {
   "cell_type": "code",
   "execution_count": 55,
   "metadata": {
    "scrolled": false
   },
   "outputs": [],
   "source": [
    "elements = []\n",
    "for year in yearsofanalysis:\n",
    "    elements.append(\"Population{}\".format(year))\n",
    "    elements.append(\"NewConnections{}\".format(year))\n",
    "    elements.append(\"Capacity{}\".format(year))\n",
    "    elements.append(\"Investment{}\".format(year))\n",
    "\n",
    "techs = [\"Grid\", \"SA_Diesel\", \"SA_PV\", \"MG_Diesel\", \"MG_PV\", \"MG_Wind\", \"MG_Hydro\"]\n",
    "\n",
    "sumtechs = []\n",
    "for year in yearsofanalysis:\n",
    "    sumtechs.extend([\"Population{}\".format(year) + t for t in techs])\n",
    "    sumtechs.extend([\"NewConnections{}\".format(year) + t for t in techs])\n",
    "    sumtechs.extend([\"Capacity{}\".format(year) + t for t in techs])\n",
    "    sumtechs.extend([\"Investment{}\".format(year) + t for t in techs])\n",
    "\n",
    "summary = pd.Series(index=sumtechs, name='country')\n",
    "\n",
    "for year in yearsofanalysis:\n",
    "    for t in techs:\n",
    "        summary.loc[\"Population{}\".format(year) + t] = onsseter.df.loc[onsseter.df[SET_MIN_OVERALL + '{}'.format(year)] == t + '{}'.format(year), SET_POP + '{}'.format(year)].sum()\n",
    "        summary.loc[\"NewConnections{}\".format(year) + t] = onsseter.df.loc[onsseter.df[SET_MIN_OVERALL + '{}'.format(year)] == t + '{}'.format(year), SET_NEW_CONNECTIONS + '{}'.format(year)].sum()\n",
    "        summary.loc[\"Capacity{}\".format(year) + t] = onsseter.df.loc[onsseter.df[SET_MIN_OVERALL + '{}'.format(year)] == t + '{}'.format(year), SET_NEW_CAPACITY + '{}'.format(year)].sum()/1000\n",
    "        summary.loc[\"Investment{}\".format(year) + t] = onsseter.df.loc[onsseter.df[SET_MIN_OVERALL + '{}'.format(year)] == t + '{}'.format(year), SET_INVESTMENT_COST + '{}'.format(year)].sum()\n",
    "        \n",
    "index = techs + ['Total']\n",
    "columns = []\n",
    "for year in yearsofanalysis:\n",
    "    columns.append(\"Population{}\".format(year))\n",
    "    columns.append(\"NewConnections{}\".format(year))\n",
    "    columns.append(\"Capacity{} (MW)\".format(year))\n",
    "    columns.append(\"Investment{} (million USD)\".format(year))\n",
    "                                                                                                                                           \n",
    "summary_table = pd.DataFrame(index=index, columns=columns)\n",
    "\n",
    "summary_table[columns[0]] = summary.iloc[0:7].astype(int).tolist() + [int(summary.iloc[0:7].sum())]\n",
    "summary_table[columns[1]] = summary.iloc[7:14].astype(int).tolist() + [int(summary.iloc[7:14].sum())]\n",
    "summary_table[columns[2]] = summary.iloc[14:21].astype(int).tolist() + [int(summary.iloc[14:21].sum())]\n",
    "summary_table[columns[3]] = [round(x/1e4)/1e2 for x in summary.iloc[21:28].astype(float).tolist()] + [round(summary.iloc[21:28].sum()/1e4)/1e2]\n",
    "summary_table[columns[4]] = summary.iloc[0:7].astype(int).tolist() + [int(summary.iloc[28:35].sum())]\n",
    "summary_table[columns[5]] = summary.iloc[7:14].astype(int).tolist() + [int(summary.iloc[35:42].sum())]\n",
    "summary_table[columns[6]] = summary.iloc[14:21].astype(int).tolist() + [int(summary.iloc[42:49].sum())]\n",
    "summary_table[columns[7]] = [round(x/1e4)/1e2 for x in summary.iloc[49:56].astype(float).tolist()] + [round(summary.iloc[49:56].sum()/1e4)/1e2]"
   ]
  },
  {
   "cell_type": "code",
   "execution_count": 25,
   "metadata": {},
   "outputs": [
    {
     "data": {
      "text/markdown": [
       "### Summary \n",
       " These are the summarized results for full electrification of the selected country by the final year"
      ],
      "text/plain": [
       "<IPython.core.display.Markdown object>"
      ]
     },
     "metadata": {},
     "output_type": "display_data"
    },
    {
     "data": {
      "text/html": [
       "<div>\n",
       "<style scoped>\n",
       "    .dataframe tbody tr th:only-of-type {\n",
       "        vertical-align: middle;\n",
       "    }\n",
       "\n",
       "    .dataframe tbody tr th {\n",
       "        vertical-align: top;\n",
       "    }\n",
       "\n",
       "    .dataframe thead th {\n",
       "        text-align: right;\n",
       "    }\n",
       "</style>\n",
       "<table border=\"1\" class=\"dataframe\">\n",
       "  <thead>\n",
       "    <tr style=\"text-align: right;\">\n",
       "      <th></th>\n",
       "      <th>Population2027</th>\n",
       "      <th>NewConnections2027</th>\n",
       "      <th>Capacity2027 (MW)</th>\n",
       "      <th>Investment2027 (million USD)</th>\n",
       "      <th>Population2035</th>\n",
       "      <th>NewConnections2035</th>\n",
       "      <th>Capacity2035 (MW)</th>\n",
       "      <th>Investment2035 (million USD)</th>\n",
       "    </tr>\n",
       "  </thead>\n",
       "  <tbody>\n",
       "    <tr>\n",
       "      <th>Grid</th>\n",
       "      <td>7681264</td>\n",
       "      <td>5734053</td>\n",
       "      <td>322</td>\n",
       "      <td>1054.90</td>\n",
       "      <td>7681264</td>\n",
       "      <td>5734053</td>\n",
       "      <td>322</td>\n",
       "      <td>599.67</td>\n",
       "    </tr>\n",
       "    <tr>\n",
       "      <th>SA_Diesel</th>\n",
       "      <td>0</td>\n",
       "      <td>0</td>\n",
       "      <td>0</td>\n",
       "      <td>0.00</td>\n",
       "      <td>0</td>\n",
       "      <td>0</td>\n",
       "      <td>0</td>\n",
       "      <td>0.00</td>\n",
       "    </tr>\n",
       "    <tr>\n",
       "      <th>SA_PV</th>\n",
       "      <td>90002</td>\n",
       "      <td>90002</td>\n",
       "      <td>0</td>\n",
       "      <td>50.88</td>\n",
       "      <td>90002</td>\n",
       "      <td>90002</td>\n",
       "      <td>0</td>\n",
       "      <td>15.90</td>\n",
       "    </tr>\n",
       "    <tr>\n",
       "      <th>MG_Diesel</th>\n",
       "      <td>0</td>\n",
       "      <td>0</td>\n",
       "      <td>0</td>\n",
       "      <td>0.00</td>\n",
       "      <td>0</td>\n",
       "      <td>0</td>\n",
       "      <td>0</td>\n",
       "      <td>0.00</td>\n",
       "    </tr>\n",
       "    <tr>\n",
       "      <th>MG_PV</th>\n",
       "      <td>14821447</td>\n",
       "      <td>14821447</td>\n",
       "      <td>619</td>\n",
       "      <td>6039.57</td>\n",
       "      <td>14821447</td>\n",
       "      <td>14821447</td>\n",
       "      <td>619</td>\n",
       "      <td>2075.66</td>\n",
       "    </tr>\n",
       "    <tr>\n",
       "      <th>MG_Wind</th>\n",
       "      <td>0</td>\n",
       "      <td>0</td>\n",
       "      <td>0</td>\n",
       "      <td>0.00</td>\n",
       "      <td>0</td>\n",
       "      <td>0</td>\n",
       "      <td>0</td>\n",
       "      <td>0.00</td>\n",
       "    </tr>\n",
       "    <tr>\n",
       "      <th>MG_Hydro</th>\n",
       "      <td>136</td>\n",
       "      <td>136</td>\n",
       "      <td>0</td>\n",
       "      <td>0.04</td>\n",
       "      <td>136</td>\n",
       "      <td>136</td>\n",
       "      <td>0</td>\n",
       "      <td>0.00</td>\n",
       "    </tr>\n",
       "    <tr>\n",
       "      <th>Total</th>\n",
       "      <td>22592850</td>\n",
       "      <td>20645638</td>\n",
       "      <td>942</td>\n",
       "      <td>7145.40</td>\n",
       "      <td>26858618</td>\n",
       "      <td>13440369</td>\n",
       "      <td>1468</td>\n",
       "      <td>2691.23</td>\n",
       "    </tr>\n",
       "  </tbody>\n",
       "</table>\n",
       "</div>"
      ],
      "text/plain": [
       "           Population2027  NewConnections2027  Capacity2027 (MW)  \\\n",
       "Grid              7681264             5734053                322   \n",
       "SA_Diesel               0                   0                  0   \n",
       "SA_PV               90002               90002                  0   \n",
       "MG_Diesel               0                   0                  0   \n",
       "MG_PV            14821447            14821447                619   \n",
       "MG_Wind                 0                   0                  0   \n",
       "MG_Hydro              136                 136                  0   \n",
       "Total            22592850            20645638                942   \n",
       "\n",
       "           Investment2027 (million USD)  Population2035  NewConnections2035  \\\n",
       "Grid                            1054.90         7681264             5734053   \n",
       "SA_Diesel                          0.00               0                   0   \n",
       "SA_PV                             50.88           90002               90002   \n",
       "MG_Diesel                          0.00               0                   0   \n",
       "MG_PV                           6039.57        14821447            14821447   \n",
       "MG_Wind                            0.00               0                   0   \n",
       "MG_Hydro                           0.04             136                 136   \n",
       "Total                           7145.40        26858618            13440369   \n",
       "\n",
       "           Capacity2035 (MW)  Investment2035 (million USD)  \n",
       "Grid                     322                        599.67  \n",
       "SA_Diesel                  0                          0.00  \n",
       "SA_PV                      0                         15.90  \n",
       "MG_Diesel                  0                          0.00  \n",
       "MG_PV                    619                       2075.66  \n",
       "MG_Wind                    0                          0.00  \n",
       "MG_Hydro                   0                          0.00  \n",
       "Total                   1468                       2691.23  "
      ]
     },
     "execution_count": 25,
     "metadata": {},
     "output_type": "execute_result"
    }
   ],
   "source": [
    "display(Markdown('### Summary \\n These are the summarized results for full electrification of the selected country by the final year'))\n",
    "summary_table"
   ]
  },
  {
   "cell_type": "code",
   "execution_count": 26,
   "metadata": {
    "scrolled": false
   },
   "outputs": [
    {
     "name": "stderr",
     "output_type": "stream",
     "text": [
      "2019-06-16 16:16:04,238\t\tupdate_title_pos\n",
      "2019-06-16 16:16:04,266\t\tfindfont: Matching :family=sans-serif:style=normal:variant=normal:weight=normal:stretch=normal:size=20.0 to DejaVu Sans ('C:\\\\Users\\\\asahl\\\\AppData\\\\Local\\\\Continuum\\\\anaconda3\\\\lib\\\\site-packages\\\\matplotlib\\\\mpl-data\\\\fonts\\\\ttf\\\\DejaVuSans.ttf') with score of 0.050000.\n",
      "2019-06-16 16:16:04,273\t\tupdate_title_pos\n",
      "2019-06-16 16:16:04,300\t\tupdate_title_pos\n",
      "2019-06-16 16:16:04,332\t\tupdate_title_pos\n",
      "2019-06-16 16:16:04,365\t\tupdate_title_pos\n",
      "2019-06-16 16:16:04,384\t\tupdate_title_pos\n",
      "2019-06-16 16:16:04,405\t\tupdate_title_pos\n",
      "2019-06-16 16:16:04,426\t\tupdate_title_pos\n",
      "2019-06-16 16:16:04,509\t\tupdate_title_pos\n",
      "2019-06-16 16:16:04,525\t\tupdate_title_pos\n",
      "2019-06-16 16:16:04,542\t\tupdate_title_pos\n",
      "2019-06-16 16:16:04,559\t\tupdate_title_pos\n",
      "2019-06-16 16:16:04,614\t\tupdate_title_pos\n",
      "2019-06-16 16:16:04,631\t\tupdate_title_pos\n",
      "2019-06-16 16:16:04,648\t\tupdate_title_pos\n",
      "2019-06-16 16:16:04,665\t\tupdate_title_pos\n",
      "2019-06-16 16:16:04,687\t\tupdate_title_pos\n",
      "2019-06-16 16:16:04,715\t\tupdate_title_pos\n",
      "2019-06-16 16:16:04,737\t\tupdate_title_pos\n",
      "2019-06-16 16:16:04,758\t\tupdate_title_pos\n"
     ]
    },
    {
     "data": {
      "image/png": "[encoded data removed]",
      "text/plain": [
       "<Figure size 1080x1080 with 4 Axes>"
      ]
     },
     "metadata": {
      "needs_background": "light"
     },
     "output_type": "display_data"
    }
   ],
   "source": [
    "import matplotlib.pylab as plt\n",
    "import seaborn as sns\n",
    "\n",
    "colors = ['#73B2FF','#EDD100','#EDA800','#1F6600','#98E600','#70A800','#1FA800']\n",
    "techs_colors = dict(zip(techs, colors))\n",
    "\n",
    "summary_plot=summary_table.drop(labels='Total',axis=0)\n",
    "fig_size = [15, 15]\n",
    "font_size = 10\n",
    "plt.rcParams[\"figure.figsize\"] = fig_size\n",
    "f, axarr = plt.subplots(2, 2)\n",
    "fig_size = [15, 15]\n",
    "font_size = 10\n",
    "plt.rcParams[\"figure.figsize\"] = fig_size\n",
    "\n",
    "sns.barplot(x=summary_plot.index.tolist(), y=columns[4], data=summary_plot, ax=axarr[0, 0], palette=colors)\n",
    "axarr[0, 0].set_ylabel(columns[4], fontsize=2*font_size)\n",
    "axarr[0, 0].tick_params(labelsize=font_size)\n",
    "sns.barplot(x=summary_plot.index.tolist(), y=columns[5], data=summary_plot, ax=axarr[0, 1], palette=colors)\n",
    "axarr[0, 1].set_ylabel(columns[5], fontsize=2*font_size)\n",
    "axarr[0, 1].tick_params(labelsize=font_size)\n",
    "sns.barplot(x=summary_plot.index.tolist(), y=columns[6], data=summary_plot, ax=axarr[1, 0], palette=colors)\n",
    "axarr[1, 0].set_ylabel(columns[6], fontsize=2*font_size)\n",
    "axarr[1, 0].tick_params(labelsize=font_size)\n",
    "sns.barplot(x=summary_plot.index.tolist(), y=columns[7], data=summary_plot, ax=axarr[1, 1], palette=colors)\n",
    "axarr[1, 1].set_ylabel(columns[7], fontsize=2*font_size)\n",
    "axarr[1, 1].tick_params(labelsize=font_size)"
   ]
  },
  {
   "cell_type": "code",
   "execution_count": 27,
   "metadata": {
    "scrolled": false
   },
   "outputs": [
    {
     "data": {
      "text/plain": [
       "<Figure size 2160x2160 with 0 Axes>"
      ]
     },
     "execution_count": 27,
     "metadata": {},
     "output_type": "execute_result"
    },
    {
     "name": "stderr",
     "output_type": "stream",
     "text": [
      "2019-06-16 16:16:04,893\t\tupdate_title_pos\n",
      "2019-06-16 16:16:04,943\t\tupdate_title_pos\n",
      "2019-06-16 16:16:04,989\t\tupdate_title_pos\n",
      "2019-06-16 16:16:05,019\t\tupdate_title_pos\n",
      "2019-06-16 16:16:05,038\t\tupdate_title_pos\n"
     ]
    },
    {
     "data": {
      "image/png": "[encoded data removed]",
      "text/plain": [
       "<Figure size 648x648 with 1 Axes>"
      ]
     },
     "metadata": {
      "needs_background": "light"
     },
     "output_type": "display_data"
    },
    {
     "data": {
      "text/plain": [
       "<Figure size 2160x2160 with 0 Axes>"
      ]
     },
     "metadata": {},
     "output_type": "display_data"
    }
   ],
   "source": [
    "from matplotlib import pyplot as plt\n",
    "colors = ['#73B2FF','#EDD100','#EDA800','#1F6600','#98E600','#70A800','#1FA800']\n",
    "plt.figure(figsize=(9,9))\n",
    "plt.plot(onsseter.df.loc[onsseter.df['FinalElecCode{}'.format(end_year)]==3, SET_X_DEG], onsseter.df.loc[onsseter.df['FinalElecCode{}'.format(end_year)]==3, SET_Y_DEG], color='#EDA800', marker=',', linestyle='none')\n",
    "plt.plot(onsseter.df.loc[onsseter.df['FinalElecCode{}'.format(end_year)]==2, SET_X_DEG], onsseter.df.loc[onsseter.df['FinalElecCode{}'.format(end_year)]==2, SET_Y_DEG], color='#EDD100', marker=',', linestyle='none')\n",
    "plt.plot(onsseter.df.loc[onsseter.df['FinalElecCode{}'.format(end_year)]==4, SET_X_DEG], onsseter.df.loc[onsseter.df['FinalElecCode{}'.format(end_year)]==4, SET_Y_DEG], color='#1F6600', marker=',', linestyle='none')\n",
    "plt.plot(onsseter.df.loc[onsseter.df['FinalElecCode{}'.format(end_year)]==5, SET_X_DEG], onsseter.df.loc[onsseter.df['FinalElecCode{}'.format(end_year)]==5, SET_Y_DEG], color='#98E600', marker=',', linestyle='none')\n",
    "plt.plot(onsseter.df.loc[onsseter.df['FinalElecCode{}'.format(end_year)]==6, SET_X_DEG], onsseter.df.loc[onsseter.df['FinalElecCode{}'.format(end_year)]==6, SET_Y_DEG], color='#70A800', marker=',', linestyle='none')\n",
    "plt.plot(onsseter.df.loc[onsseter.df['FinalElecCode{}'.format(end_year)]==7, SET_X_DEG], onsseter.df.loc[onsseter.df['FinalElecCode{}'.format(end_year)]==7, SET_Y_DEG], color='#1FA800', marker=',', linestyle='none')\n",
    "plt.plot(onsseter.df.loc[onsseter.df['FinalElecCode{}'.format(end_year)]==1, SET_X_DEG], onsseter.df.loc[onsseter.df['FinalElecCode{}'.format(end_year)]==1, SET_Y_DEG], color='#73B2FF', marker=',', linestyle='none')\n",
    "if onsseter.df[SET_X_DEG].max() - onsseter.df[SET_X_DEG].min() > onsseter.df[SET_Y_DEG].max() - onsseter.df[SET_Y_DEG].min():\n",
    "    plt.xlim(onsseter.df[SET_X_DEG].min() - 1, onsseter.df[SET_X_DEG].max() + 1)\n",
    "    plt.ylim((onsseter.df[SET_Y_DEG].min()+onsseter.df[SET_Y_DEG].max())/2 - 0.5*abs(onsseter.df[SET_X_DEG].max() - onsseter.df[SET_X_DEG].min()) - 1, (onsseter.df[SET_Y_DEG].min()+onsseter.df[SET_Y_DEG].max())/2 + 0.5*abs(onsseter.df[SET_X_DEG].max() - onsseter.df[SET_X_DEG].min()) + 1)\n",
    "else:\n",
    "    plt.xlim((onsseter.df[SET_X_DEG].min()+onsseter.df[SET_X_DEG].max())/2 - 0.5*abs(onsseter.df[SET_Y_DEG].max() - onsseter.df[SET_Y_DEG].min()) - 1, (onsseter.df[SET_X_DEG].min()+onsseter.df[SET_X_DEG].max())/2 + 0.5*abs(onsseter.df[SET_Y_DEG].max() - onsseter.df[SET_Y_DEG].min()) + 1)\n",
    "    plt.ylim(onsseter.df[SET_Y_DEG].min() -1, onsseter.df[SET_Y_DEG].max() +1)\n",
    "plt.figure(figsize=(30,30))"
   ]
  },
  {
   "cell_type": "markdown",
   "metadata": {},
   "source": [
    "## 9. Exporting results\n",
    "\n",
    "This code generates three csv files:\n",
    " - one containing all the results for the scenario created\n",
    " - one containing the summary for the scenario created\n",
    " - one containing some if the key input variables of the scenario\n",
    "\n",
    "Before we proceed, please write the scenario_name in the first cell below. then move on to the next cell and run it to browse to the directory where you want to save your results. Sample file shall be located at .\\ gep-onsset\\sample_output. \n",
    "\n",
    "**Note that if you do not change the scenario name, the previous output files will be overwritten"
   ]
  },
  {
   "cell_type": "code",
   "execution_count": 28,
   "metadata": {},
   "outputs": [],
   "source": [
    "scenario_name = \"scenario_5\""
   ]
  },
  {
   "cell_type": "code",
   "execution_count": 29,
   "metadata": {},
   "outputs": [],
   "source": [
    "list1 = [('Start_year',start_year,'','',''), \n",
    "         ('End_year',end_year,'','',''),\n",
    "         ('End year electrification rate target',electrification_rate_target,'','',''),\n",
    "         ('Intermediate target year', intermediate_year,'','',''),\n",
    "         ('Intermediate electrification rate target', intermediate_electrification_target,'','',''),\n",
    "         ('PV cost adjustment factor', pv_adjustment_factor, '', '', ''),\n",
    "         ('Urban target tier', urban_target_tier, '', '', ''),\n",
    "         ('Rural target tier', rural_target_tier, '', '', ''),\n",
    "         ('Prioritization', prioritization,'','','1 = baseline, 2 = intensification'),\n",
    "         ('Auto intensification distance', auto_intensification, '', '', 'Buffer distance (km) for automatic intensification if choosing prioritization 1'),\n",
    "         ('coordinate_units',coordinate_units,'','','1000 if coordinates are in m, 1 if coordinates are in km'),\n",
    "         ('discount_rate',discount_rate,'','',''),\n",
    "         ('pop_threshold',pop_threshold,'','',''),\n",
    "         ('pop_start_year',pop_start_year,'','','the population in the base year (e.g. 2016)'),\n",
    "         ('pop_end_year',end_year_pop,'','','the projected population in the end year (e.g. 2030)'),\n",
    "         ('urban_ratio_start_year',urban_ratio_start_year,'','','the urban population population ratio in the base year (e.g. 2016)'),\n",
    "         ('urban_ratio_end_year',urban_ratio_end_year,'','','the urban population population ratio in the end year (e.g. 2030)'),\n",
    "         ('num_people_per_hh_urban',num_people_per_hh_urban,'','','the number of people per household expected in the end year (e.g. 2030)'),\n",
    "         ('num_people_per_hh_rural',num_people_per_hh_rural,'','','the number of people per household expected in the end year (e.g. 2030)'),\n",
    "         ('elec_ratio_start_year',elec_ratio_start_year,'','','the electrification rate in the base year (e.g. 2016)'),\n",
    "         ('urban_elec_ratio',urban_elec_ratio,'','','urban electrification rate in the base year (e.g. 2016)'),\n",
    "         ('rural_elec_ratio',rural_elec_ratio,'','','rural electrification rate in the base year (e.g. 2016)'),\n",
    "         ('grid_generation_cost',grid_generation_cost,'','','This is the grid cost electricity USD/kWh as expected in the end year of the analysis'),\n",
    "         ('grid_power_plants_capital_cost',grid_power_plants_capital_cost,'','','The cost in USD/kW to for capacity upgrades of the grid-connected power plants'),\n",
    "         ('grid_losses',grid_losses,'','','The fraction of electricity lost in transmission and distribution (percentage)'),\n",
    "         ('base_to_peak',base_to_peak,'','','The ratio of base grid demand to peak demand (percentage)'),\n",
    "         ('existing_grid_cost_ratio',existing_grid_cost_ratio,'','','The additional cost per round of electrification (percentage)'),\n",
    "         ('diesel_price',diesel_price,'','','This is the diesel price in USD/liter as expected in the end year of the analysis'),\n",
    "         ('sa_diesel_capital_cost',sa_diesel_capital_cost,'','','Stand-alone Diesel capital cost (USD/kW) as expected in the years of the analysis'),\n",
    "         ('mg_diesel_capital_cost',mg_diesel_capital_cost,'','','Mini-grid Diesel capital cost (USD/kW) as expected in the years of the analysis'),\n",
    "         ('mg_pv_capital_cost',mg_pv_capital_cost,'','','Mini-grid PV capital cost (USD/kW) as expected in the years of the analysis'),\n",
    "         ('mg_wind_capital_cost',mg_wind_capital_cost,'','','Mini-grid Wind capital cost (USD/kW) as expected in the years of the analysis'),\n",
    "         ('mg_hydro_capital_cost',mg_hydro_capital_cost,'','','Mini-grid Hydro capital cost (USD/kW) as expected in the years of the analysis'),\n",
    "         ('sa_pv_capital_cost_1',sa_pv_capital_cost_1,'','','Stand-alone PV capital cost (USD/kW) for household systems under 20 W'),\n",
    "         ('sa_pv_capital_cost_2',sa_pv_capital_cost_2,'','','Stand-alone PV capital cost (USD/kW) for household systems between 21-50 W'),\n",
    "         ('sa_pv_capital_cost_3',sa_pv_capital_cost_3,'','','Stand-alone PV capital cost (USD/kW) for household systems between 51-100 W'),\n",
    "         ('sa_pv_capital_cost_4',sa_pv_capital_cost_4,'','','Stand-alone PV capital cost (USD/kW) for household systems between 101-200 W'),\n",
    "         ('sa_pv_capital_cost_5',sa_pv_capital_cost_5,'','','Stand-alone PV capital cost (USD/kW) for household systems over 200 W'),\n",
    "         ('mv_line_cost',mv_line_cost,'','','Cost of MV lines in USD/km'),\n",
    "         ('lv_line_cost',lv_line_cost,'','','Cost of LV lines in USD/km'),\n",
    "         ('mv_line_capacity',mv_line_capacity,'','','Capacity of MV lines in kW/line'),\n",
    "         ('lv_line_capacity',lv_line_capacity,'','','Capacity of LV lines in kW/line'),\n",
    "         ('lv_line_max_length',lv_line_max_length,'','','Maximum length of LV lines (km)'),\n",
    "         ('hv_line_cost',hv_line_cost,'','','Cost of HV lines in USD/km'),\n",
    "         ('mv_line_max_length',mv_line_max_length,'','','Maximum length of MV lines (km)'),\n",
    "         ('hv_lv_transformer_cost',hv_lv_transformer_cost,'','','Cost of HV/MV transformer (USD/unit)'),\n",
    "         ('mv_increase_rate',mv_increase_rate,'','','percentage'),\n",
    "         ('max_grid_extension_dist',max_mv_line_dist,'','','Maximum distance that the grid may be extended by means of MV lines'),\n",
    "         ('annual_new_grid_connections_limit', annual_new_grid_connections_limit,'','','This is the maximum amount of new households that can be connected to the grid in one year (thousands)'),\n",
    "         ('grid_capacity_limit',annual_grid_cap_gen_limit,'','','This is the maximum generation capacity that can be added to the grid in one year (MW)'),\n",
    "         ('GIS data: Administrative boundaries','','','','Delineates the boundaries of the analysis.'),\n",
    "         ('GIS data: DEM','','','','Filled DEM (elevation) maps are use in a number of processes in the analysis (Energy potentials, restriction zones, grid extension suitability map etc.).'),\n",
    "         ('GIS data: Hydropower','','','','Points showing potential mini/small hydropower potential.  Provides power availability in each identified point.'),\n",
    "         ('GIS data: Land Cover','','','','Land cover maps are use in a number of processes in the analysis (Energy potentials, restriction zones, grid extension suitability map etc.).'),\n",
    "         ('GIS data: Night-time Lights','','','','Dataset used to,identify and spatially calibrate the currently electrified/non-electrified population.'),\n",
    "         ('GIS data: Population','','','','Spatial identification and quantification of the current (base year) population. This dataset sets the basis of the ONSSET analysis as it is directly connected with the electricity demand and the assignment of energy access goals'),\n",
    "         ('GIS data: Roads','','','','Current road infrastructure is used in order to specify grid extension suitability.'),\n",
    "         ('GIS data: Solar GHI','','','','Provide information about the Global Horizontal Irradiation (kWh/m2/year) over an area. This is later used to identify the availability/suitability of Photovoltaic systems.'),\n",
    "         ('GIS data: Substations','','','','Current Substation infrastructure is used in order to specify grid extension suitability.'),\n",
    "         ('GIS data: Existing grid','','','','Current grid network'),\n",
    "         ('GIS data: Planned grid','','','','Planned/committed grid network extensions'),\n",
    "         ('GIS data: Travel-time','','','','Visualizes spatially the travel time required to reach from any individual cell to the closest town with population more than 50,000 people.'),\n",
    "         ('GIS data: Wind velocity','','','','Provide information about the wind velocity (m/sec) over an area. This is later used to identify the availability/suitability of wind power (using Capacity factors).'),\n",
    "        ]\n",
    "labels = ['Variable','Value', 'Source', 'Comments', 'Description']\n",
    "df_variables = pd.DataFrame.from_records(list1, columns=labels)"
   ]
  },
  {
   "cell_type": "code",
   "execution_count": 30,
   "metadata": {},
   "outputs": [],
   "source": [
    "messagebox.showinfo('OnSSET', 'Browse to the folder where you want to save the outputs')\n",
    "\n",
    "output_dir = filedialog.askdirectory()\n",
    "output_dir_variables = os.path.join(output_dir, '{}_Variables.csv'.format(scenario_name))\n",
    "output_dir_results = os.path.join(output_dir, '{}_Results.csv'.format(scenario_name))\n",
    "output_dir_summaries = os.path.join(output_dir, '{}_Summaries.csv'.format(scenario_name))"
   ]
  },
  {
   "cell_type": "code",
   "execution_count": 31,
   "metadata": {},
   "outputs": [],
   "source": [
    "# Returning the result as a csv file\n",
    "onsseter.df.to_csv(output_dir_results, index=False)\n",
    "\n",
    "# Returning the summary as a csv file\n",
    "summary_table.to_csv(output_dir_summaries, index=True)\n",
    "\n",
    "# Returning the input variables as a csv file\n",
    "df_variables.to_csv(output_dir_variables, index=False)"
   ]
  },
  {
   "cell_type": "code",
   "execution_count": null,
   "metadata": {},
   "outputs": [],
   "source": []
  }
 ],
 "metadata": {
  "anaconda-cloud": {},
  "celltoolbar": "Raw Cell Format",
  "kernelspec": {
   "display_name": "Python 3",
   "language": "python",
   "name": "python3"
  },
  "language_info": {
   "codemirror_mode": {
    "name": "ipython",
    "version": 3
   },
   "file_extension": ".py",
   "mimetype": "text/x-python",
   "name": "python",
   "nbconvert_exporter": "python",
   "pygments_lexer": "ipython3",
   "version": "3.7.1"
  }
 },
 "nbformat": 4,
 "nbformat_minor": 2
}
